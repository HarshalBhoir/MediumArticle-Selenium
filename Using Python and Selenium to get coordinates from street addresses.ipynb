{
 "cells": [
  {
   "cell_type": "markdown",
   "metadata": {},
   "source": [
    "# Using Python and Selenium to get coordinates from street addresses :"
   ]
  },
  {
   "cell_type": "markdown",
   "metadata": {},
   "source": [
    "![Melbourne](https://cdn-images-1.medium.com/max/1200/1*oNUuJJUC_J7hCzbZ0zds2Q.jpeg)\n",
    "\n",
    "This is a step by step article on how to use **Python** and **Selenium** to scrape **coordinates  data** (Latitude and Longitude values) from Google Maps **based on street addresses**. In this case example, I'm going to work with an official dataset containing the street addresses of all **Australian charities and nonprofits**. At the end, I'll proceed to map all the charities and nonprofits in the city of Melbourne using **Folium**, to demonstrate what can be done with the newly acquired coordinates data."
   ]
  },
  {
   "cell_type": "markdown",
   "metadata": {},
   "source": [
    "---"
   ]
  },
  {
   "cell_type": "markdown",
   "metadata": {},
   "source": [
    "# The packages and the setup :"
   ]
  },
  {
   "cell_type": "markdown",
   "metadata": {},
   "source": [
    "We'll need the [Selenium](https://pypi.org/project/selenium/) python package to perform the data scraping. If you don't have it yet, you can install it [using pip](https://www.youtube.com/watch?v=FKwicZF7xNE) : `pip install selenium` . \n",
    "\n",
    "We'll also need a WebDriver in order to interact with the browser, so you have to [go here and download it](https://chromedriver.chromium.org/downloads) to your machine (make sure it's compatible with your current Chrome version).\n",
    "Now let's do the import :"
   ]
  },
  {
   "cell_type": "code",
   "execution_count": 1,
   "metadata": {},
   "outputs": [],
   "source": [
    "from selenium import webdriver"
   ]
  },
  {
   "cell_type": "markdown",
   "metadata": {},
   "source": [
    "Let's also get [tqdm](https://github.com/tqdm/tqdm), an essential progressbar python package. It is very useful to estimate how much time the web scraping part of your code will take (i'm using tqdm_notebook because I'm working in a Jupyter Notebook) :"
   ]
  },
  {
   "cell_type": "code",
   "execution_count": 2,
   "metadata": {},
   "outputs": [],
   "source": [
    "from tqdm import tqdm_notebook as tqdmn"
   ]
  },
  {
   "cell_type": "markdown",
   "metadata": {},
   "source": [
    "In addition to that, we'll need [Pandas](https://pandas.pydata.org/) to read and manipulate the dataset :"
   ]
  },
  {
   "cell_type": "code",
   "execution_count": 3,
   "metadata": {},
   "outputs": [],
   "source": [
    "import pandas as pd"
   ]
  },
  {
   "cell_type": "markdown",
   "metadata": {},
   "source": [
    "Finally, we'll get [Folium](https://pypi.org/project/folium/) to map coordinates data on a map (it can be installed using `pip install folium`):"
   ]
  },
  {
   "cell_type": "code",
   "execution_count": 4,
   "metadata": {},
   "outputs": [],
   "source": [
    "import folium"
   ]
  },
  {
   "cell_type": "markdown",
   "metadata": {},
   "source": [
    "This is a CSS code to format our dataframes for added contrast between the indexes and the data itself (more info on that [here](https://medium.com/analytics-vidhya/5-css-snippets-for-better-looking-pandas-dataframes-ad808e407894?source=friends_link&sk=32c05ad43eb79378f6b4992ae809953a)) :"
   ]
  },
  {
   "cell_type": "code",
   "execution_count": 5,
   "metadata": {},
   "outputs": [
    {
     "data": {
      "text/html": [
       "<style>.dataframe th{background: rgb(63,87,124);background: linear-gradient(180deg, rgba(63,87,124,1) 0%, rgba(101,124,161,1) 100%, rgba(0,212,255,1) 100%);;\n",
       "padding: 10px;font-family: monospace;font-size: 110%;color: white;border:1px dashed white;text-align:left !important;\n",
       "-moz-border-radius: 3x;-webkit-border-radius: 3px;}.dataframe thead{border:none; !important;}</style>\n"
      ],
      "text/plain": [
       "<IPython.core.display.HTML object>"
      ]
     },
     "metadata": {},
     "output_type": "display_data"
    }
   ],
   "source": [
    "%%HTML\n",
    "<style>.dataframe th{background: rgb(63,87,124);background: linear-gradient(180deg, rgba(63,87,124,1) 0%, rgba(101,124,161,1) 100%, rgba(0,212,255,1) 100%);;\n",
    "padding: 10px;font-family: monospace;font-size: 110%;color: white;border:1px dashed white;text-align:left !important;\n",
    "-moz-border-radius: 3x;-webkit-border-radius: 3px;}.dataframe thead{border:none; !important;}</style>"
   ]
  },
  {
   "cell_type": "markdown",
   "metadata": {},
   "source": [
    "---"
   ]
  },
  {
   "cell_type": "markdown",
   "metadata": {},
   "source": [
    "# The dataset: ACNC charities and nonprofits registry :"
   ]
  },
  {
   "cell_type": "markdown",
   "metadata": {},
   "source": [
    "Australia is ranked 4th worldwide by the CAF World Giving Index in its [10th edition](https://www.cafonline.org/about-us/publications/2019-publications/caf-world-giving-index-10th-edition) that covers the last 10 years. By visiting the [ACNC's website](https://www.acnc.gov.au/), you'll quickly notice how easy they make it for researchers to access all the data about charities and nonprofits in Australia.\n",
    "\n",
    "The dataset we'll be using can be downloaded here (along with a useful user notes document explaining the variables ):\n",
    "\n",
    "* [ACNC Charity Register dataset](http://data.gov.au/dataset/acnc-register): Excel file XLSX | 7.7 Mb | 74155 rows and 60 columns as of 23/01/2020\n",
    "\n",
    "The dataset presents many interesting aspects about the charities and nonprofits in Australia: unique identifier, legal name, address (for correspondence), registration date, size, purpose, beneficiaries and more (read the user notes for more info).\n",
    "\n",
    "Here, we're mainly interested in the **street address features** which span several columns: `Address_Line_1`,  `Address_Line_2`,  `Address_Line_3`,  `Town_City`,  `State`,  `Postcode` and `Country`. Also, for simplicity, we will only look into charities and nonprofits in the city of Melbourne."
   ]
  },
  {
   "cell_type": "markdown",
   "metadata": {},
   "source": [
    "---"
   ]
  },
  {
   "cell_type": "markdown",
   "metadata": {},
   "source": [
    "# Data cleaning and preparation :"
   ]
  },
  {
   "cell_type": "markdown",
   "metadata": {},
   "source": [
    "First, let's read in the dataset we previously downloaded from the ACNC website using Pandas :"
   ]
  },
  {
   "cell_type": "code",
   "execution_count": 6,
   "metadata": {},
   "outputs": [],
   "source": [
    "# we set this Pandas option to make all 60 columns visible to us :\n",
    "pd.set_option('display.max_columns', 60)\n",
    "\n",
    "acnc = pd.read_excel('data/datadotgov_main.xlsx', keep_default_na=False)"
   ]
  },
  {
   "cell_type": "markdown",
   "metadata": {},
   "source": [
    "Make sure to supply the path where the Excel file resides on your machine. The `keep_default_na` parameter is set to `False` so we'll get empty values instead of NaN when certain values are missing. This will be useful later when we'll combine all the street address variables into one variable."
   ]
  },
  {
   "cell_type": "code",
   "execution_count": 7,
   "metadata": {
    "scrolled": true
   },
   "outputs": [
    {
     "data": {
      "text/html": [
       "<div>\n",
       "<style scoped>\n",
       "    .dataframe tbody tr th:only-of-type {\n",
       "        vertical-align: middle;\n",
       "    }\n",
       "\n",
       "    .dataframe tbody tr th {\n",
       "        vertical-align: top;\n",
       "    }\n",
       "\n",
       "    .dataframe thead th {\n",
       "        text-align: right;\n",
       "    }\n",
       "</style>\n",
       "<table border=\"1\" class=\"dataframe\">\n",
       "  <thead>\n",
       "    <tr style=\"text-align: right;\">\n",
       "      <th></th>\n",
       "      <th>ABN</th>\n",
       "      <th>Charity_Legal_Name</th>\n",
       "      <th>Other_Organisation_Names</th>\n",
       "      <th>Operating_Countries</th>\n",
       "      <th>Address_Type</th>\n",
       "      <th>Address_Line_1</th>\n",
       "      <th>Address_Line_2</th>\n",
       "      <th>Address_Line_3</th>\n",
       "      <th>Town_City</th>\n",
       "      <th>State</th>\n",
       "      <th>Postcode</th>\n",
       "      <th>Country</th>\n",
       "      <th>Charity_Website</th>\n",
       "      <th>Registration_Date</th>\n",
       "      <th>Date_Organisation_Established</th>\n",
       "      <th>Charity_Size</th>\n",
       "      <th>Number_of_Responsible_Persons</th>\n",
       "      <th>Financial_Year_End</th>\n",
       "      <th>Operates_in_ACT</th>\n",
       "      <th>Operates_in_NSW</th>\n",
       "      <th>Operates_in_NT</th>\n",
       "      <th>Operates_in_QLD</th>\n",
       "      <th>Operates_in_SA</th>\n",
       "      <th>Operates_in_TAS</th>\n",
       "      <th>Operates_in_VIC</th>\n",
       "      <th>Operates_in_WA</th>\n",
       "      <th>PBI</th>\n",
       "      <th>HPC</th>\n",
       "      <th>Preventing_or_relieving_suffering_of_animals</th>\n",
       "      <th>Advancing_Culture</th>\n",
       "      <th>Advancing_Education</th>\n",
       "      <th>Advancing_Health</th>\n",
       "      <th>Promote_or_oppose_a_change_to_law__government_poll_or_prac</th>\n",
       "      <th>Advancing_natual_environment</th>\n",
       "      <th>Promoting_or_protecting_human_rights</th>\n",
       "      <th>Purposes_beneficial_to_ther_general_public_and_other_analogous</th>\n",
       "      <th>Promoting_reconciliation__mutual_respect_and_tolerance</th>\n",
       "      <th>Advancing_Religion</th>\n",
       "      <th>Advancing_social_or_public_welfare</th>\n",
       "      <th>Advancing_security_or_safety_of_Australia_or_Australian_public</th>\n",
       "      <th>Another_purpose_beneficial_to_the_community</th>\n",
       "      <th>Aboriginal_or_TSI</th>\n",
       "      <th>Aged_Persons</th>\n",
       "      <th>Children</th>\n",
       "      <th>Communities_Overseas</th>\n",
       "      <th>Ethnic_Groups</th>\n",
       "      <th>Gay_Lesbian_Bisexual</th>\n",
       "      <th>General_Community_in_Australia</th>\n",
       "      <th>Men</th>\n",
       "      <th>Migrants_Refugees_or_Asylum_Seekers</th>\n",
       "      <th>Pre_Post_Release_Offenders</th>\n",
       "      <th>People_with_Chronic_Illness</th>\n",
       "      <th>People_with_Disabilities</th>\n",
       "      <th>People_at_risk_of_homelessness</th>\n",
       "      <th>Unemployed_Person</th>\n",
       "      <th>Veterans_or_their_families</th>\n",
       "      <th>Victims_of_crime</th>\n",
       "      <th>Victims_of_Disasters</th>\n",
       "      <th>Women</th>\n",
       "      <th>Youth</th>\n",
       "    </tr>\n",
       "  </thead>\n",
       "  <tbody>\n",
       "    <tr>\n",
       "      <th>0</th>\n",
       "      <td>11000047950</td>\n",
       "      <td>Sydney Missionary &amp; Bible College</td>\n",
       "      <td></td>\n",
       "      <td></td>\n",
       "      <td>Business</td>\n",
       "      <td>43 Badminton Rd</td>\n",
       "      <td></td>\n",
       "      <td></td>\n",
       "      <td>Croydon</td>\n",
       "      <td>New South Wales</td>\n",
       "      <td>2132</td>\n",
       "      <td>Australia</td>\n",
       "      <td></td>\n",
       "      <td>03/12/2012</td>\n",
       "      <td></td>\n",
       "      <td>Large</td>\n",
       "      <td>9</td>\n",
       "      <td>31-Dec</td>\n",
       "      <td></td>\n",
       "      <td>Y</td>\n",
       "      <td></td>\n",
       "      <td></td>\n",
       "      <td></td>\n",
       "      <td></td>\n",
       "      <td></td>\n",
       "      <td></td>\n",
       "      <td></td>\n",
       "      <td></td>\n",
       "      <td></td>\n",
       "      <td></td>\n",
       "      <td>Y</td>\n",
       "      <td></td>\n",
       "      <td></td>\n",
       "      <td></td>\n",
       "      <td></td>\n",
       "      <td></td>\n",
       "      <td></td>\n",
       "      <td>Y</td>\n",
       "      <td></td>\n",
       "      <td></td>\n",
       "      <td></td>\n",
       "      <td></td>\n",
       "      <td></td>\n",
       "      <td></td>\n",
       "      <td>Y</td>\n",
       "      <td>Y</td>\n",
       "      <td></td>\n",
       "      <td>Y</td>\n",
       "      <td></td>\n",
       "      <td></td>\n",
       "      <td></td>\n",
       "      <td></td>\n",
       "      <td></td>\n",
       "      <td></td>\n",
       "      <td></td>\n",
       "      <td></td>\n",
       "      <td></td>\n",
       "      <td></td>\n",
       "      <td></td>\n",
       "      <td></td>\n",
       "    </tr>\n",
       "    <tr>\n",
       "      <th>1</th>\n",
       "      <td>11000073870</td>\n",
       "      <td>Integricare</td>\n",
       "      <td></td>\n",
       "      <td></td>\n",
       "      <td>Business</td>\n",
       "      <td></td>\n",
       "      <td></td>\n",
       "      <td></td>\n",
       "      <td></td>\n",
       "      <td></td>\n",
       "      <td></td>\n",
       "      <td>Australia</td>\n",
       "      <td>http://www.integricare.org.au</td>\n",
       "      <td>03/12/2012</td>\n",
       "      <td>31/12/1881</td>\n",
       "      <td>Large</td>\n",
       "      <td>8</td>\n",
       "      <td>30-Jun</td>\n",
       "      <td></td>\n",
       "      <td>Y</td>\n",
       "      <td></td>\n",
       "      <td></td>\n",
       "      <td></td>\n",
       "      <td></td>\n",
       "      <td></td>\n",
       "      <td></td>\n",
       "      <td></td>\n",
       "      <td></td>\n",
       "      <td></td>\n",
       "      <td></td>\n",
       "      <td></td>\n",
       "      <td></td>\n",
       "      <td></td>\n",
       "      <td></td>\n",
       "      <td></td>\n",
       "      <td>Y</td>\n",
       "      <td></td>\n",
       "      <td></td>\n",
       "      <td>Y</td>\n",
       "      <td></td>\n",
       "      <td>Y</td>\n",
       "      <td></td>\n",
       "      <td></td>\n",
       "      <td></td>\n",
       "      <td></td>\n",
       "      <td></td>\n",
       "      <td></td>\n",
       "      <td></td>\n",
       "      <td></td>\n",
       "      <td></td>\n",
       "      <td></td>\n",
       "      <td></td>\n",
       "      <td></td>\n",
       "      <td></td>\n",
       "      <td></td>\n",
       "      <td></td>\n",
       "      <td></td>\n",
       "      <td></td>\n",
       "      <td></td>\n",
       "      <td></td>\n",
       "    </tr>\n",
       "    <tr>\n",
       "      <th>2</th>\n",
       "      <td>11000761571</td>\n",
       "      <td>Australian Missionary Tidings</td>\n",
       "      <td></td>\n",
       "      <td>BRA, COD, COL, ESP, FJI, IND, ITA, KHM, MEX, N...</td>\n",
       "      <td>Business</td>\n",
       "      <td>Po Box 565</td>\n",
       "      <td></td>\n",
       "      <td></td>\n",
       "      <td>Mount Gravatt</td>\n",
       "      <td>Queensland</td>\n",
       "      <td>4122</td>\n",
       "      <td>Australia</td>\n",
       "      <td></td>\n",
       "      <td>03/12/2012</td>\n",
       "      <td>31/12/1909</td>\n",
       "      <td>Large</td>\n",
       "      <td>12</td>\n",
       "      <td>31-Dec</td>\n",
       "      <td></td>\n",
       "      <td></td>\n",
       "      <td></td>\n",
       "      <td>Y</td>\n",
       "      <td></td>\n",
       "      <td></td>\n",
       "      <td></td>\n",
       "      <td></td>\n",
       "      <td></td>\n",
       "      <td></td>\n",
       "      <td></td>\n",
       "      <td></td>\n",
       "      <td></td>\n",
       "      <td></td>\n",
       "      <td></td>\n",
       "      <td></td>\n",
       "      <td></td>\n",
       "      <td></td>\n",
       "      <td></td>\n",
       "      <td>Y</td>\n",
       "      <td></td>\n",
       "      <td></td>\n",
       "      <td></td>\n",
       "      <td></td>\n",
       "      <td></td>\n",
       "      <td></td>\n",
       "      <td>Y</td>\n",
       "      <td>Y</td>\n",
       "      <td></td>\n",
       "      <td></td>\n",
       "      <td></td>\n",
       "      <td></td>\n",
       "      <td></td>\n",
       "      <td></td>\n",
       "      <td></td>\n",
       "      <td></td>\n",
       "      <td></td>\n",
       "      <td></td>\n",
       "      <td></td>\n",
       "      <td>Y</td>\n",
       "      <td></td>\n",
       "      <td></td>\n",
       "    </tr>\n",
       "    <tr>\n",
       "      <th>3</th>\n",
       "      <td>11001233790</td>\n",
       "      <td>The Greek Orthodox Church &amp; Community Of The \"...</td>\n",
       "      <td></td>\n",
       "      <td></td>\n",
       "      <td>Business</td>\n",
       "      <td>11 Steel Street</td>\n",
       "      <td></td>\n",
       "      <td></td>\n",
       "      <td>HAMILTON</td>\n",
       "      <td>NSW</td>\n",
       "      <td>2303</td>\n",
       "      <td>Australia</td>\n",
       "      <td></td>\n",
       "      <td>03/12/2012</td>\n",
       "      <td></td>\n",
       "      <td>Medium</td>\n",
       "      <td>5</td>\n",
       "      <td>30-Jun</td>\n",
       "      <td></td>\n",
       "      <td>Y</td>\n",
       "      <td></td>\n",
       "      <td></td>\n",
       "      <td></td>\n",
       "      <td></td>\n",
       "      <td></td>\n",
       "      <td></td>\n",
       "      <td></td>\n",
       "      <td></td>\n",
       "      <td></td>\n",
       "      <td></td>\n",
       "      <td></td>\n",
       "      <td></td>\n",
       "      <td></td>\n",
       "      <td></td>\n",
       "      <td></td>\n",
       "      <td></td>\n",
       "      <td></td>\n",
       "      <td>Y</td>\n",
       "      <td></td>\n",
       "      <td></td>\n",
       "      <td></td>\n",
       "      <td>Y</td>\n",
       "      <td></td>\n",
       "      <td></td>\n",
       "      <td>Y</td>\n",
       "      <td>Y</td>\n",
       "      <td>Y</td>\n",
       "      <td>Y</td>\n",
       "      <td>Y</td>\n",
       "      <td>Y</td>\n",
       "      <td></td>\n",
       "      <td></td>\n",
       "      <td>Y</td>\n",
       "      <td></td>\n",
       "      <td></td>\n",
       "      <td></td>\n",
       "      <td></td>\n",
       "      <td>Y</td>\n",
       "      <td>Y</td>\n",
       "      <td>Y</td>\n",
       "    </tr>\n",
       "    <tr>\n",
       "      <th>4</th>\n",
       "      <td>11001241005</td>\n",
       "      <td>Wangarang Industries Limited</td>\n",
       "      <td></td>\n",
       "      <td></td>\n",
       "      <td>Business</td>\n",
       "      <td>PO Box 8133</td>\n",
       "      <td></td>\n",
       "      <td></td>\n",
       "      <td>Orange</td>\n",
       "      <td>NSW</td>\n",
       "      <td>2800</td>\n",
       "      <td>Australia</td>\n",
       "      <td></td>\n",
       "      <td>03/12/2012</td>\n",
       "      <td>01/01/1975</td>\n",
       "      <td>Large</td>\n",
       "      <td>8</td>\n",
       "      <td>30-Jun</td>\n",
       "      <td></td>\n",
       "      <td>Y</td>\n",
       "      <td></td>\n",
       "      <td></td>\n",
       "      <td></td>\n",
       "      <td></td>\n",
       "      <td></td>\n",
       "      <td></td>\n",
       "      <td>Y</td>\n",
       "      <td></td>\n",
       "      <td></td>\n",
       "      <td></td>\n",
       "      <td></td>\n",
       "      <td></td>\n",
       "      <td></td>\n",
       "      <td></td>\n",
       "      <td></td>\n",
       "      <td></td>\n",
       "      <td></td>\n",
       "      <td></td>\n",
       "      <td></td>\n",
       "      <td></td>\n",
       "      <td></td>\n",
       "      <td></td>\n",
       "      <td></td>\n",
       "      <td></td>\n",
       "      <td></td>\n",
       "      <td></td>\n",
       "      <td></td>\n",
       "      <td></td>\n",
       "      <td></td>\n",
       "      <td></td>\n",
       "      <td></td>\n",
       "      <td></td>\n",
       "      <td>Y</td>\n",
       "      <td></td>\n",
       "      <td></td>\n",
       "      <td></td>\n",
       "      <td></td>\n",
       "      <td></td>\n",
       "      <td></td>\n",
       "      <td></td>\n",
       "    </tr>\n",
       "  </tbody>\n",
       "</table>\n",
       "</div>"
      ],
      "text/plain": [
       "           ABN                                 Charity_Legal_Name  \\\n",
       "0  11000047950                  Sydney Missionary & Bible College   \n",
       "1  11000073870                                        Integricare   \n",
       "2  11000761571                      Australian Missionary Tidings   \n",
       "3  11001233790  The Greek Orthodox Church & Community Of The \"...   \n",
       "4  11001241005                       Wangarang Industries Limited   \n",
       "\n",
       "  Other_Organisation_Names                                Operating_Countries  \\\n",
       "0                                                                               \n",
       "1                                                                               \n",
       "2                           BRA, COD, COL, ESP, FJI, IND, ITA, KHM, MEX, N...   \n",
       "3                                                                               \n",
       "4                                                                               \n",
       "\n",
       "  Address_Type   Address_Line_1 Address_Line_2 Address_Line_3      Town_City  \\\n",
       "0     Business  43 Badminton Rd                                      Croydon   \n",
       "1     Business                                                                 \n",
       "2     Business       Po Box 565                                Mount Gravatt   \n",
       "3     Business  11 Steel Street                                     HAMILTON   \n",
       "4     Business      PO Box 8133                                       Orange   \n",
       "\n",
       "             State Postcode    Country                Charity_Website  \\\n",
       "0  New South Wales     2132  Australia                                  \n",
       "1                            Australia  http://www.integricare.org.au   \n",
       "2       Queensland     4122  Australia                                  \n",
       "3              NSW     2303  Australia                                  \n",
       "4              NSW     2800  Australia                                  \n",
       "\n",
       "  Registration_Date Date_Organisation_Established Charity_Size  \\\n",
       "0        03/12/2012                                      Large   \n",
       "1        03/12/2012                    31/12/1881        Large   \n",
       "2        03/12/2012                    31/12/1909        Large   \n",
       "3        03/12/2012                                     Medium   \n",
       "4        03/12/2012                    01/01/1975        Large   \n",
       "\n",
       "   Number_of_Responsible_Persons Financial_Year_End Operates_in_ACT  \\\n",
       "0                              9             31-Dec                   \n",
       "1                              8             30-Jun                   \n",
       "2                             12             31-Dec                   \n",
       "3                              5             30-Jun                   \n",
       "4                              8             30-Jun                   \n",
       "\n",
       "  Operates_in_NSW Operates_in_NT Operates_in_QLD Operates_in_SA  \\\n",
       "0               Y                                                 \n",
       "1               Y                                                 \n",
       "2                                              Y                  \n",
       "3               Y                                                 \n",
       "4               Y                                                 \n",
       "\n",
       "  Operates_in_TAS Operates_in_VIC Operates_in_WA PBI HPC  \\\n",
       "0                                                          \n",
       "1                                                          \n",
       "2                                                          \n",
       "3                                                          \n",
       "4                                                  Y       \n",
       "\n",
       "  Preventing_or_relieving_suffering_of_animals Advancing_Culture  \\\n",
       "0                                                                  \n",
       "1                                                                  \n",
       "2                                                                  \n",
       "3                                                                  \n",
       "4                                                                  \n",
       "\n",
       "  Advancing_Education Advancing_Health  \\\n",
       "0                   Y                    \n",
       "1                                        \n",
       "2                                        \n",
       "3                                        \n",
       "4                                        \n",
       "\n",
       "  Promote_or_oppose_a_change_to_law__government_poll_or_prac  \\\n",
       "0                                                              \n",
       "1                                                              \n",
       "2                                                              \n",
       "3                                                              \n",
       "4                                                              \n",
       "\n",
       "  Advancing_natual_environment Promoting_or_protecting_human_rights  \\\n",
       "0                                                                     \n",
       "1                                                                     \n",
       "2                                                                     \n",
       "3                                                                     \n",
       "4                                                                     \n",
       "\n",
       "  Purposes_beneficial_to_ther_general_public_and_other_analogous  \\\n",
       "0                                                                  \n",
       "1                                                  Y               \n",
       "2                                                                  \n",
       "3                                                                  \n",
       "4                                                                  \n",
       "\n",
       "  Promoting_reconciliation__mutual_respect_and_tolerance Advancing_Religion  \\\n",
       "0                                                                         Y   \n",
       "1                                                                             \n",
       "2                                                                         Y   \n",
       "3                                                                         Y   \n",
       "4                                                                             \n",
       "\n",
       "  Advancing_social_or_public_welfare  \\\n",
       "0                                      \n",
       "1                                  Y   \n",
       "2                                      \n",
       "3                                      \n",
       "4                                      \n",
       "\n",
       "  Advancing_security_or_safety_of_Australia_or_Australian_public  \\\n",
       "0                                                                  \n",
       "1                                                                  \n",
       "2                                                                  \n",
       "3                                                                  \n",
       "4                                                                  \n",
       "\n",
       "  Another_purpose_beneficial_to_the_community Aboriginal_or_TSI Aged_Persons  \\\n",
       "0                                                                              \n",
       "1                                           Y                                  \n",
       "2                                                                              \n",
       "3                                                             Y                \n",
       "4                                                                              \n",
       "\n",
       "  Children Communities_Overseas Ethnic_Groups Gay_Lesbian_Bisexual  \\\n",
       "0                             Y             Y                        \n",
       "1                                                                    \n",
       "2                             Y             Y                        \n",
       "3                             Y             Y                    Y   \n",
       "4                                                                    \n",
       "\n",
       "  General_Community_in_Australia Men Migrants_Refugees_or_Asylum_Seekers  \\\n",
       "0                              Y                                           \n",
       "1                                                                          \n",
       "2                                                                          \n",
       "3                              Y   Y                                   Y   \n",
       "4                                                                          \n",
       "\n",
       "  Pre_Post_Release_Offenders People_with_Chronic_Illness  \\\n",
       "0                                                          \n",
       "1                                                          \n",
       "2                                                          \n",
       "3                                                          \n",
       "4                                                          \n",
       "\n",
       "  People_with_Disabilities People_at_risk_of_homelessness Unemployed_Person  \\\n",
       "0                                                                             \n",
       "1                                                                             \n",
       "2                                                                             \n",
       "3                        Y                                                    \n",
       "4                        Y                                                    \n",
       "\n",
       "  Veterans_or_their_families Victims_of_crime Victims_of_Disasters Women Youth  \n",
       "0                                                                               \n",
       "1                                                                               \n",
       "2                                                                Y              \n",
       "3                                                                Y     Y     Y  \n",
       "4                                                                               "
      ]
     },
     "execution_count": 7,
     "metadata": {},
     "output_type": "execute_result"
    }
   ],
   "source": [
    "acnc.head()"
   ]
  },
  {
   "cell_type": "markdown",
   "metadata": {},
   "source": [
    "Now, let's make a new dataframe `mel` as a copy of `acnc` after filtering it by the variable `Town_City` to only select the charities and nonprofits in the city of Melbourne :"
   ]
  },
  {
   "cell_type": "code",
   "execution_count": 8,
   "metadata": {},
   "outputs": [],
   "source": [
    "mel = acnc[acnc.Town_City.str.contains('melbourne', case=False)][['ABN', 'Charity_Legal_Name', 'Address_Line_1', \n",
    "                                                                  'Address_Line_2', 'Address_Line_3', 'Town_City', \n",
    "                                                                  'State', 'Postcode', 'Country', \n",
    "                                                                  'Date_Organisation_Established', 'Charity_Size']].copy()"
   ]
  },
  {
   "cell_type": "markdown",
   "metadata": {},
   "source": [
    "I did two things here: I filtered the `acnc` dataframe by the `Town_City` variable, and then I only selected 11 useful columns out of the 60 we initially had. `copy()` makes sure we made a proper copy of the filtered `acnc` dataframe.\n",
    "\n",
    "I didn't use `acnc[acnc.Town_City == 'Melbourne']` here because I suspected it may have been written in different ways. To make sure this was necessary :"
   ]
  },
  {
   "cell_type": "code",
   "execution_count": 10,
   "metadata": {},
   "outputs": [
    {
     "data": {
      "text/plain": [
       "Melbourne                       1779\n",
       "MELBOURNE                        475\n",
       "East Melbourne                   115\n",
       "South Melbourne                  104\n",
       "North Melbourne                   87\n",
       "Port Melbourne                    48\n",
       "West Melbourne                    32\n",
       "SOUTH MELBOURNE                   20\n",
       "EAST MELBOURNE                    18\n",
       "NORTH MELBOURNE                    8\n",
       "WEST MELBOURNE                     6\n",
       "PORT MELBOURNE                     5\n",
       "Royal Melbourne Hospital           4\n",
       "Melbourne University               3\n",
       "Melbourne Airport                  2\n",
       "University Of Melbourne            2\n",
       "University of Melbourne            2\n",
       "Melbourne Officer                  1\n",
       "Melbourne Aiport                   1\n",
       "THE UNIVERSITY OF MELBOURNE        1\n",
       "UNIVERSITY OF MELBOURNE            1\n",
       "The University of Melbourne        1\n",
       "Hawthorne East, Melbourne          1\n",
       "Melbourne North                    1\n",
       "West melbourne                     1\n",
       "The Royal Melbourne Hospital       1\n",
       "Melbourne Law Courts               1\n",
       "south melbourne                    1\n",
       "melbourne                          1\n",
       "Name: Town_City, dtype: int64"
      ]
     },
     "execution_count": 10,
     "metadata": {},
     "output_type": "execute_result"
    }
   ],
   "source": [
    "mel.Town_City.value_counts()"
   ]
  },
  {
   "cell_type": "markdown",
   "metadata": {},
   "source": [
    "As we can see above, the column contained different ways of indicating that a charity is indeed situated in Melbourne, some of which using suburbs or even very specific places in the city like The University of Melbourne. By using `acnc.Town_City.str.contains('melbourne', case=False)` , we insured all of the above charities are accounted for (otherwise we would only get the 1779 ones correctly labeled).\n",
    "\n",
    "Let's see how our new `mel` dataframe looks like :"
   ]
  },
  {
   "cell_type": "code",
   "execution_count": 11,
   "metadata": {},
   "outputs": [
    {
     "data": {
      "text/html": [
       "<div>\n",
       "<style scoped>\n",
       "    .dataframe tbody tr th:only-of-type {\n",
       "        vertical-align: middle;\n",
       "    }\n",
       "\n",
       "    .dataframe tbody tr th {\n",
       "        vertical-align: top;\n",
       "    }\n",
       "\n",
       "    .dataframe thead th {\n",
       "        text-align: right;\n",
       "    }\n",
       "</style>\n",
       "<table border=\"1\" class=\"dataframe\">\n",
       "  <thead>\n",
       "    <tr style=\"text-align: right;\">\n",
       "      <th></th>\n",
       "      <th>ABN</th>\n",
       "      <th>Charity_Legal_Name</th>\n",
       "      <th>Address_Line_1</th>\n",
       "      <th>Address_Line_2</th>\n",
       "      <th>Address_Line_3</th>\n",
       "      <th>Town_City</th>\n",
       "      <th>State</th>\n",
       "      <th>Postcode</th>\n",
       "      <th>Country</th>\n",
       "      <th>Date_Organisation_Established</th>\n",
       "      <th>Charity_Size</th>\n",
       "    </tr>\n",
       "  </thead>\n",
       "  <tbody>\n",
       "    <tr>\n",
       "      <th>15</th>\n",
       "      <td>11004285956</td>\n",
       "      <td>Australian Nurses Memorial Centre</td>\n",
       "      <td>G Se 11 431 St Kilda Rd</td>\n",
       "      <td></td>\n",
       "      <td></td>\n",
       "      <td>Melbourne</td>\n",
       "      <td>Victoria</td>\n",
       "      <td>3004</td>\n",
       "      <td>Australia</td>\n",
       "      <td>31/12/1949</td>\n",
       "      <td>Small</td>\n",
       "    </tr>\n",
       "    <tr>\n",
       "      <th>123</th>\n",
       "      <td>11128866419</td>\n",
       "      <td>Australian Community Philanthropy Ltd</td>\n",
       "      <td>L 15 1 Collins St</td>\n",
       "      <td></td>\n",
       "      <td></td>\n",
       "      <td>Melbourne</td>\n",
       "      <td>Victoria</td>\n",
       "      <td>3000</td>\n",
       "      <td>Australia</td>\n",
       "      <td>01/01/2007</td>\n",
       "      <td>Small</td>\n",
       "    </tr>\n",
       "    <tr>\n",
       "      <th>125</th>\n",
       "      <td>11129013305</td>\n",
       "      <td>Nafsika Stamoulis Hellenic Museum Limited</td>\n",
       "      <td>280 William St</td>\n",
       "      <td></td>\n",
       "      <td></td>\n",
       "      <td>Melbourne</td>\n",
       "      <td>Victoria</td>\n",
       "      <td>3000</td>\n",
       "      <td>Australia</td>\n",
       "      <td>01/01/2007</td>\n",
       "      <td>Large</td>\n",
       "    </tr>\n",
       "    <tr>\n",
       "      <th>126</th>\n",
       "      <td>11129790467</td>\n",
       "      <td>Doxa Community Club Incorporated</td>\n",
       "      <td>Ground Floor, Suite 2, 355 Spencer Street</td>\n",
       "      <td></td>\n",
       "      <td></td>\n",
       "      <td>West Melbourne</td>\n",
       "      <td>VIC</td>\n",
       "      <td>3003</td>\n",
       "      <td>Australia</td>\n",
       "      <td>01/01/1992</td>\n",
       "      <td>Large</td>\n",
       "    </tr>\n",
       "    <tr>\n",
       "      <th>135</th>\n",
       "      <td>11137037677</td>\n",
       "      <td>Financial Basics Community Foundation Limited</td>\n",
       "      <td>L 7 525 Flinders St</td>\n",
       "      <td></td>\n",
       "      <td></td>\n",
       "      <td>Melbourne</td>\n",
       "      <td>Victoria</td>\n",
       "      <td>3000</td>\n",
       "      <td>Australia</td>\n",
       "      <td>01/01/2009</td>\n",
       "      <td>Small</td>\n",
       "    </tr>\n",
       "  </tbody>\n",
       "</table>\n",
       "</div>"
      ],
      "text/plain": [
       "             ABN                             Charity_Legal_Name  \\\n",
       "15   11004285956              Australian Nurses Memorial Centre   \n",
       "123  11128866419          Australian Community Philanthropy Ltd   \n",
       "125  11129013305      Nafsika Stamoulis Hellenic Museum Limited   \n",
       "126  11129790467               Doxa Community Club Incorporated   \n",
       "135  11137037677  Financial Basics Community Foundation Limited   \n",
       "\n",
       "                                Address_Line_1 Address_Line_2 Address_Line_3  \\\n",
       "15                     G Se 11 431 St Kilda Rd                                 \n",
       "123                          L 15 1 Collins St                                 \n",
       "125                             280 William St                                 \n",
       "126  Ground Floor, Suite 2, 355 Spencer Street                                 \n",
       "135                        L 7 525 Flinders St                                 \n",
       "\n",
       "          Town_City     State Postcode    Country  \\\n",
       "15        Melbourne  Victoria     3004  Australia   \n",
       "123       Melbourne  Victoria     3000  Australia   \n",
       "125       Melbourne  Victoria     3000  Australia   \n",
       "126  West Melbourne       VIC     3003  Australia   \n",
       "135       Melbourne  Victoria     3000  Australia   \n",
       "\n",
       "    Date_Organisation_Established Charity_Size  \n",
       "15                     31/12/1949        Small  \n",
       "123                    01/01/2007        Small  \n",
       "125                    01/01/2007        Large  \n",
       "126                    01/01/1992        Large  \n",
       "135                    01/01/2009        Small  "
      ]
     },
     "execution_count": 11,
     "metadata": {},
     "output_type": "execute_result"
    }
   ],
   "source": [
    "mel.head()   # 2722 rows and 11 columns"
   ]
  },
  {
   "cell_type": "markdown",
   "metadata": {},
   "source": [
    "And now, let's add a new column `Full_Address` containing the full address :"
   ]
  },
  {
   "cell_type": "code",
   "execution_count": 12,
   "metadata": {},
   "outputs": [],
   "source": [
    "mel['Full_Address'] = mel['Address_Line_1'].str.cat( mel[['Address_Line_2', 'Address_Line_3', 'Town_City']], sep=' ')"
   ]
  },
  {
   "cell_type": "markdown",
   "metadata": {},
   "source": [
    "`str.cat()` works here because all of these columns are of type object or string.\n",
    "\n",
    "Here's an example of the very first full address in `mel` :"
   ]
  },
  {
   "cell_type": "code",
   "execution_count": 13,
   "metadata": {},
   "outputs": [
    {
     "data": {
      "text/plain": [
       "'G Se 11 431 St Kilda Rd   Melbourne'"
      ]
     },
     "execution_count": 13,
     "metadata": {},
     "output_type": "execute_result"
    }
   ],
   "source": [
    "mel.Full_Address.iloc[0]"
   ]
  },
  {
   "cell_type": "markdown",
   "metadata": {},
   "source": [
    "One more thing: some of these full addresses only contain the Post Office Box number (mentioned as GPO Box or Po Box). These addresses are completely useless to us because they don't refer to an existing place. Here's an example :"
   ]
  },
  {
   "cell_type": "code",
   "execution_count": 14,
   "metadata": {},
   "outputs": [
    {
     "data": {
      "text/plain": [
       "'GPO Box 2307   Melbourne'"
      ]
     },
     "execution_count": 14,
     "metadata": {},
     "output_type": "execute_result"
    }
   ],
   "source": [
    "mel[mel.Full_Address.str.contains('po box', case=False)].Full_Address.iloc[0]"
   ]
  },
  {
   "cell_type": "markdown",
   "metadata": {},
   "source": [
    "We need to remove these records (or rows) before proceeding :"
   ]
  },
  {
   "cell_type": "code",
   "execution_count": 15,
   "metadata": {},
   "outputs": [],
   "source": [
    "mel = mel[~mel.Full_Address.str.contains('po box', case=False)].copy()"
   ]
  },
  {
   "cell_type": "markdown",
   "metadata": {},
   "source": [
    "One last thing: some addresses contain the character `/` which will break any URL we want to generate from the full address. We need to substitute any slash symbol with a space :"
   ]
  },
  {
   "cell_type": "code",
   "execution_count": 16,
   "metadata": {},
   "outputs": [],
   "source": [
    "mel.Full_Address = mel.Full_Address.str.replace('/', ' ')"
   ]
  },
  {
   "cell_type": "markdown",
   "metadata": {},
   "source": [
    "---"
   ]
  },
  {
   "cell_type": "markdown",
   "metadata": {},
   "source": [
    "# Exploring Google Maps :"
   ]
  },
  {
   "cell_type": "markdown",
   "metadata": {},
   "source": [
    "Before any web scraping job, it is essential to explore the website you want to extract data from. In our case, it's [Google Maps](https://www.google.com/maps).\n",
    "\n",
    "First, let's study how searching for a full address using the search bar inside Google Maps affects the URL of the result page. For this, I'll go with the fictitious address `Grinch house mount crumpit whoville` because I want Google Maps to return no results :\n",
    "\n",
    "![google_maps](https://cdn-images-1.medium.com/max/800/1*CMzGOjASfF8x_DJAF1qBuQ.png)"
   ]
  },
  {
   "cell_type": "markdown",
   "metadata": {},
   "source": [
    "As you can see above, we get `www.google.com/maps/search/` followed by  the address we searched for. In other words, if we want to search for an address XYZ within Google Maps, all we have to do is use the URL `www.google.com/maps/search/XYZ`, without having to interact with the search bar itself.\n",
    "\n",
    "The idea here is to generate a new column within `mel` where we combine `www.google.com/maps/search/` with every `Full_Address` we have in our dataframe `mel`, and then have Selenium iterate over them visiting the URLs one after the other.\n",
    "\n",
    "Let's create that new `Url` column :"
   ]
  },
  {
   "cell_type": "code",
   "execution_count": 17,
   "metadata": {},
   "outputs": [],
   "source": [
    "mel['Url'] = ['https://www.google.com/maps/search/' + i for i in mel['Full_Address'] ]"
   ]
  },
  {
   "cell_type": "code",
   "execution_count": 18,
   "metadata": {},
   "outputs": [
    {
     "data": {
      "text/html": [
       "<div>\n",
       "<style scoped>\n",
       "    .dataframe tbody tr th:only-of-type {\n",
       "        vertical-align: middle;\n",
       "    }\n",
       "\n",
       "    .dataframe tbody tr th {\n",
       "        vertical-align: top;\n",
       "    }\n",
       "\n",
       "    .dataframe thead th {\n",
       "        text-align: right;\n",
       "    }\n",
       "</style>\n",
       "<table border=\"1\" class=\"dataframe\">\n",
       "  <thead>\n",
       "    <tr style=\"text-align: right;\">\n",
       "      <th></th>\n",
       "      <th>ABN</th>\n",
       "      <th>Charity_Legal_Name</th>\n",
       "      <th>Address_Line_1</th>\n",
       "      <th>Address_Line_2</th>\n",
       "      <th>Address_Line_3</th>\n",
       "      <th>Town_City</th>\n",
       "      <th>State</th>\n",
       "      <th>Postcode</th>\n",
       "      <th>Country</th>\n",
       "      <th>Date_Organisation_Established</th>\n",
       "      <th>Charity_Size</th>\n",
       "      <th>Full_Address</th>\n",
       "      <th>Url</th>\n",
       "    </tr>\n",
       "  </thead>\n",
       "  <tbody>\n",
       "    <tr>\n",
       "      <th>15</th>\n",
       "      <td>11004285956</td>\n",
       "      <td>Australian Nurses Memorial Centre</td>\n",
       "      <td>G Se 11 431 St Kilda Rd</td>\n",
       "      <td></td>\n",
       "      <td></td>\n",
       "      <td>Melbourne</td>\n",
       "      <td>Victoria</td>\n",
       "      <td>3004</td>\n",
       "      <td>Australia</td>\n",
       "      <td>31/12/1949</td>\n",
       "      <td>Small</td>\n",
       "      <td>G Se 11 431 St Kilda Rd   Melbourne</td>\n",
       "      <td>https://www.google.com/maps/search/G Se 11 431...</td>\n",
       "    </tr>\n",
       "  </tbody>\n",
       "</table>\n",
       "</div>"
      ],
      "text/plain": [
       "            ABN                 Charity_Legal_Name           Address_Line_1  \\\n",
       "15  11004285956  Australian Nurses Memorial Centre  G Se 11 431 St Kilda Rd   \n",
       "\n",
       "   Address_Line_2 Address_Line_3  Town_City     State Postcode    Country  \\\n",
       "15                                Melbourne  Victoria     3004  Australia   \n",
       "\n",
       "   Date_Organisation_Established Charity_Size  \\\n",
       "15                    31/12/1949        Small   \n",
       "\n",
       "                           Full_Address  \\\n",
       "15  G Se 11 431 St Kilda Rd   Melbourne   \n",
       "\n",
       "                                                  Url  \n",
       "15  https://www.google.com/maps/search/G Se 11 431...  "
      ]
     },
     "execution_count": 18,
     "metadata": {},
     "output_type": "execute_result"
    }
   ],
   "source": [
    "mel[mel.Full_Address.str.contains('G Se 11 431 St Kilda Rd', case=False)]"
   ]
  },
  {
   "cell_type": "markdown",
   "metadata": {},
   "source": [
    "Now that we have a column containing all the URLs we want to crawl, let's take a look at the address `G Se 11 431 St Kilda Rd Melbourne` for example. The link would be (copy paste it in your browser):\n",
    "\n",
    "`https://www.google.com/maps/search/G Se 11 431 St Kilda Rd Melbourne`"
   ]
  },
  {
   "cell_type": "markdown",
   "metadata": {},
   "source": [
    "The above link gives us :\n",
    "\n",
    "![nurses_memorial](https://cdn-images-1.medium.com/max/800/1*bS5q2yPhnzbqpN9nR3odYQ.png)"
   ]
  },
  {
   "cell_type": "markdown",
   "metadata": {},
   "source": [
    "The above address corresponds to the charity **Australian Nurses Memorial Centre**. Let's search for it on Google Maps by name :\n",
    "\n",
    "![charity](https://cdn-images-1.medium.com/max/800/1*lImFiCK4_KuMJ8huPm_EPw.png)\n",
    "\n",
    "We get the exact same spot, but not the same coordinates in the URL. That's because the coordinates in the URL are linked to how the map is centered and not to the marker (they change if you zoom in or out). That's why we're going to extract the coordinates directly from the source code of the page itself.\n",
    "\n",
    "To view the source code, right click on a blank space within the page (outside of the map) and choose View Page Source (CTRL+U or Command+U in Mac). Now search for **-37.8** or **144.9** within the source page :\n",
    "\n",
    "![source_code1](https://cdn-images-1.medium.com/max/800/1*17IjuHiRMK4vVhgwmKy5MA.png)"
   ]
  },
  {
   "cell_type": "markdown",
   "metadata": {},
   "source": [
    "You'll find the coordinates we are seeking in many places throughout the hot mess that is the source code. But they are mostly useful to us if they are comprised within an HTML tag we can target. Luckily, there is one meta tag we can make useful here :\n",
    "\n",
    "![source_code2](https://cdn-images-1.medium.com/max/800/1*7UsaC4LjuxdXl41TQHtc_Q.png)"
   ]
  },
  {
   "cell_type": "markdown",
   "metadata": {},
   "source": [
    "For now, let's note that it's a `meta` tag with an attribute `content` containing the URL we want to extract, and an attribute `itemprop` with the value `image` which can be used to identify and target this particular `meta` tag.\n",
    "\n",
    "Now all we have to do is use Selenium to visit each URL in `mel.Url` and target this `meta` tag in order to extract the value of its attribute `content`."
   ]
  },
  {
   "cell_type": "markdown",
   "metadata": {},
   "source": [
    "---"
   ]
  },
  {
   "cell_type": "markdown",
   "metadata": {},
   "source": [
    "# Using Selenium :"
   ]
  },
  {
   "cell_type": "markdown",
   "metadata": {},
   "source": [
    "Here is the code we'll use to extract the URLs containing the coordinates from Google Maps :"
   ]
  },
  {
   "cell_type": "code",
   "execution_count": null,
   "metadata": {},
   "outputs": [],
   "source": [
    "Url_With_Coordinates = []\n",
    "\n",
    "option = webdriver.ChromeOptions()\n",
    "prefs = {'profile.default_content_setting_values': {'images':2, 'javascript':2}}\n",
    "option.add_experimental_option('prefs', prefs)\n",
    "\n",
    "driver = webdriver.Chrome(\"C:\\\\chromedriver.exe\", options=option)\n",
    "\n",
    "for url in tqdmn(mel.Url, leave=False):\n",
    "    driver.get(url)\n",
    "    Url_With_Coordinates.append(driver.find_element_by_css_selector('meta[itemprop=image]').get_attribute('content'))\n",
    "\n",
    "driver.close()\n",
    "\n",
    "import csv\n",
    "\n",
    "with open('Url_With_Coordinates.csv', 'w') as file:\n",
    "    wr = csv.writer(file)\n",
    "    wr.writerow(Url_With_Coordinates)"
   ]
  },
  {
   "cell_type": "markdown",
   "metadata": {},
   "source": [
    "To follow along with these explanations, make sure to click `View` > `Toggle Line Numbers` in your notebook :\n",
    "\n",
    "* **Line 1**: we make an empty list called `Url_With_Coordinates`, which we will fill later on with (you guessed it) the URLs we want to extract ;\n",
    "* **Lines 3-5** : prefs to run the Webdriver without javascript and images. This way the code will take much less time to load webpages. Obviously, this isn't a good choice if what you want to extract relies on javascript ;\n",
    "* **Line 7**: make sure to specify where you put the chromedriver.exe file in your machine. In my case I put it in the C drive for simplicity. Note that backlashes `\\` in the path need to be doubled `\\\\` for the path to be recognized ;\n",
    "* **Line 9**: this for loop is iterating over the `mel.Url` series. The `tqdmn()` wrapping our iterable adds a progress bar right after the cell is executed. Its parameter `leave=False` makes sure the bar goes away once the operation is finished ;\n",
    "* **Line 10**: for each URL in `mel.Url`, the webdriver opens that URL (for the first URL you'll see a chrome window open, and then you'll notice it going from URL to URL until `mel.Url` is finished) ;\n",
    "* **Line 11**: first, we search for our `meta` tag using `driver.find_element_by_css_selector` and we identify the tag by `meta[itemprop=image]`. After that, we extract the value of the attribute `content` using `.get_attribute('content')`. The result of this operation (the URL containing the coordinates) is then added to the `Url_With_Coordinates` list using `append()` ;\n",
    "* **Line 13**: we close the webdriver (chrome window) after the script is finished (this is a good practice) ;\n",
    "* **Lines 17-19**: we write our list `Url_With_Coordinates` into a CSV file just in case."
   ]
  },
  {
   "cell_type": "markdown",
   "metadata": {},
   "source": [
    "**NB: the next time you run this notebook, you don't have to rerun the webscraping code all over again** because we have saved the result in a CSV file called `Url_With_Coordinates.csv`. Let's read in that file instead :"
   ]
  },
  {
   "cell_type": "code",
   "execution_count": 19,
   "metadata": {},
   "outputs": [],
   "source": [
    "import csv\n",
    "\n",
    "with open('Url_With_Coordinates.csv', 'r') as f:\n",
    "    reader = csv.reader(f, delimiter=',')\n",
    "    for i in reader:\n",
    "        Url_With_Coordinates = i\n",
    "        break"
   ]
  },
  {
   "cell_type": "markdown",
   "metadata": {},
   "source": [
    "Now let's see what the `Url_With_Coordinates` list looks like :"
   ]
  },
  {
   "cell_type": "code",
   "execution_count": 20,
   "metadata": {},
   "outputs": [
    {
     "data": {
      "text/plain": [
       "['https://maps.google.com/maps/api/staticmap?center=-37.8386737%2C144.97706&zoom=17&size=256x256&language=en&sensor=false&client=google-maps-frontend&signature=uFBzLNXh4_xAkoqxe9tXB97_zFk',\n",
       " 'https://maps.google.com/maps/api/staticmap?center=-37.8139436%2C144.9734554&zoom=17&size=256x256&language=en&sensor=false&client=google-maps-frontend&signature=ZDtMkZz6Vw066nVDdUtFWzsWuuE',\n",
       " 'https://maps.google.com/maps/api/staticmap?center=-37.8125657%2C144.9570751&zoom=17&size=256x256&language=en&sensor=false&client=google-maps-frontend&signature=KWS2gZbSdewzujGQh9qmodbP9Sc',\n",
       " 'https://maps.google.com/maps/api/staticmap?center=-37.8119391%2C144.950558&zoom=17&size=256x256&language=en&sensor=false&client=google-maps-frontend&signature=Ma5nOuERyqGe7J9Ji6P2WXUNnpA',\n",
       " 'https://maps.google.com/maps/api/staticmap?center=-37.820694%2C144.957151&zoom=17&size=256x256&language=en&sensor=false&client=google-maps-frontend&signature=S_71-6_IXI9ePcFPGADFKats1WI']"
      ]
     },
     "execution_count": 20,
     "metadata": {},
     "output_type": "execute_result"
    }
   ],
   "source": [
    "Url_With_Coordinates[:5]"
   ]
  },
  {
   "cell_type": "markdown",
   "metadata": {},
   "source": [
    "Let's add this list as a column in our `mel` dataframe :"
   ]
  },
  {
   "cell_type": "code",
   "execution_count": 21,
   "metadata": {},
   "outputs": [],
   "source": [
    "mel['Url_With_Coordinates'] = Url_With_Coordinates"
   ]
  },
  {
   "cell_type": "markdown",
   "metadata": {},
   "source": [
    "But how are we supposed to extract just the coordinates from these URLs? Here's a visual explanation on how to use Python's `split()` method for this purpose :\n",
    "\n",
    "![split_method](https://cdn-images-1.medium.com/max/800/1*e0mPQ0M3FGf6dhxBSvILXQ.png)"
   ]
  },
  {
   "cell_type": "markdown",
   "metadata": {},
   "source": [
    "Which translates in code to the following :\n",
    "\n",
    "`url.split('?center=')[1].split('&zoom=')[0].split('%2C')`\n",
    "\n",
    "Output:\n",
    "[-37.8386737, 144.97706]\n",
    "\n",
    "Now using the code above, we're going to add two new columns to our `mel` dataframe: `lat` for latitudes and `long` for longitudes :"
   ]
  },
  {
   "cell_type": "code",
   "execution_count": 22,
   "metadata": {},
   "outputs": [
    {
     "ename": "IndexError",
     "evalue": "list index out of range",
     "output_type": "error",
     "traceback": [
      "\u001b[1;31m---------------------------------------------------------------------------\u001b[0m",
      "\u001b[1;31mIndexError\u001b[0m                                Traceback (most recent call last)",
      "\u001b[1;32m<ipython-input-22-97823734b0fe>\u001b[0m in \u001b[0;36m<module>\u001b[1;34m\u001b[0m\n\u001b[1;32m----> 1\u001b[1;33m \u001b[0mmel\u001b[0m\u001b[1;33m[\u001b[0m\u001b[1;34m'lat'\u001b[0m\u001b[1;33m]\u001b[0m \u001b[1;33m=\u001b[0m \u001b[1;33m[\u001b[0m \u001b[0murl\u001b[0m\u001b[1;33m.\u001b[0m\u001b[0msplit\u001b[0m\u001b[1;33m(\u001b[0m\u001b[1;34m'?center='\u001b[0m\u001b[1;33m)\u001b[0m\u001b[1;33m[\u001b[0m\u001b[1;36m1\u001b[0m\u001b[1;33m]\u001b[0m\u001b[1;33m.\u001b[0m\u001b[0msplit\u001b[0m\u001b[1;33m(\u001b[0m\u001b[1;34m'&zoom='\u001b[0m\u001b[1;33m)\u001b[0m\u001b[1;33m[\u001b[0m\u001b[1;36m0\u001b[0m\u001b[1;33m]\u001b[0m\u001b[1;33m.\u001b[0m\u001b[0msplit\u001b[0m\u001b[1;33m(\u001b[0m\u001b[1;34m'%2C'\u001b[0m\u001b[1;33m)\u001b[0m\u001b[1;33m[\u001b[0m\u001b[1;36m0\u001b[0m\u001b[1;33m]\u001b[0m \u001b[1;32mfor\u001b[0m \u001b[0murl\u001b[0m \u001b[1;32min\u001b[0m \u001b[0mmel\u001b[0m\u001b[1;33m[\u001b[0m\u001b[1;34m'Url_With_Coordinates'\u001b[0m\u001b[1;33m]\u001b[0m \u001b[1;33m]\u001b[0m\u001b[1;33m\u001b[0m\u001b[1;33m\u001b[0m\u001b[0m\n\u001b[0m\u001b[0;32m      2\u001b[0m \u001b[0mmel\u001b[0m\u001b[1;33m[\u001b[0m\u001b[1;34m'long'\u001b[0m\u001b[1;33m]\u001b[0m \u001b[1;33m=\u001b[0m \u001b[1;33m[\u001b[0m\u001b[0murl\u001b[0m\u001b[1;33m.\u001b[0m\u001b[0msplit\u001b[0m\u001b[1;33m(\u001b[0m\u001b[1;34m'?center='\u001b[0m\u001b[1;33m)\u001b[0m\u001b[1;33m[\u001b[0m\u001b[1;36m1\u001b[0m\u001b[1;33m]\u001b[0m\u001b[1;33m.\u001b[0m\u001b[0msplit\u001b[0m\u001b[1;33m(\u001b[0m\u001b[1;34m'&zoom='\u001b[0m\u001b[1;33m)\u001b[0m\u001b[1;33m[\u001b[0m\u001b[1;36m0\u001b[0m\u001b[1;33m]\u001b[0m\u001b[1;33m.\u001b[0m\u001b[0msplit\u001b[0m\u001b[1;33m(\u001b[0m\u001b[1;34m'%2C'\u001b[0m\u001b[1;33m)\u001b[0m\u001b[1;33m[\u001b[0m\u001b[1;36m1\u001b[0m\u001b[1;33m]\u001b[0m \u001b[1;32mfor\u001b[0m \u001b[0murl\u001b[0m \u001b[1;32min\u001b[0m \u001b[0mmel\u001b[0m\u001b[1;33m[\u001b[0m\u001b[1;34m'Url_With_Coordinates'\u001b[0m\u001b[1;33m]\u001b[0m \u001b[1;33m]\u001b[0m\u001b[1;33m\u001b[0m\u001b[1;33m\u001b[0m\u001b[0m\n",
      "\u001b[1;32m<ipython-input-22-97823734b0fe>\u001b[0m in \u001b[0;36m<listcomp>\u001b[1;34m(.0)\u001b[0m\n\u001b[1;32m----> 1\u001b[1;33m \u001b[0mmel\u001b[0m\u001b[1;33m[\u001b[0m\u001b[1;34m'lat'\u001b[0m\u001b[1;33m]\u001b[0m \u001b[1;33m=\u001b[0m \u001b[1;33m[\u001b[0m \u001b[0murl\u001b[0m\u001b[1;33m.\u001b[0m\u001b[0msplit\u001b[0m\u001b[1;33m(\u001b[0m\u001b[1;34m'?center='\u001b[0m\u001b[1;33m)\u001b[0m\u001b[1;33m[\u001b[0m\u001b[1;36m1\u001b[0m\u001b[1;33m]\u001b[0m\u001b[1;33m.\u001b[0m\u001b[0msplit\u001b[0m\u001b[1;33m(\u001b[0m\u001b[1;34m'&zoom='\u001b[0m\u001b[1;33m)\u001b[0m\u001b[1;33m[\u001b[0m\u001b[1;36m0\u001b[0m\u001b[1;33m]\u001b[0m\u001b[1;33m.\u001b[0m\u001b[0msplit\u001b[0m\u001b[1;33m(\u001b[0m\u001b[1;34m'%2C'\u001b[0m\u001b[1;33m)\u001b[0m\u001b[1;33m[\u001b[0m\u001b[1;36m0\u001b[0m\u001b[1;33m]\u001b[0m \u001b[1;32mfor\u001b[0m \u001b[0murl\u001b[0m \u001b[1;32min\u001b[0m \u001b[0mmel\u001b[0m\u001b[1;33m[\u001b[0m\u001b[1;34m'Url_With_Coordinates'\u001b[0m\u001b[1;33m]\u001b[0m \u001b[1;33m]\u001b[0m\u001b[1;33m\u001b[0m\u001b[1;33m\u001b[0m\u001b[0m\n\u001b[0m\u001b[0;32m      2\u001b[0m \u001b[0mmel\u001b[0m\u001b[1;33m[\u001b[0m\u001b[1;34m'long'\u001b[0m\u001b[1;33m]\u001b[0m \u001b[1;33m=\u001b[0m \u001b[1;33m[\u001b[0m\u001b[0murl\u001b[0m\u001b[1;33m.\u001b[0m\u001b[0msplit\u001b[0m\u001b[1;33m(\u001b[0m\u001b[1;34m'?center='\u001b[0m\u001b[1;33m)\u001b[0m\u001b[1;33m[\u001b[0m\u001b[1;36m1\u001b[0m\u001b[1;33m]\u001b[0m\u001b[1;33m.\u001b[0m\u001b[0msplit\u001b[0m\u001b[1;33m(\u001b[0m\u001b[1;34m'&zoom='\u001b[0m\u001b[1;33m)\u001b[0m\u001b[1;33m[\u001b[0m\u001b[1;36m0\u001b[0m\u001b[1;33m]\u001b[0m\u001b[1;33m.\u001b[0m\u001b[0msplit\u001b[0m\u001b[1;33m(\u001b[0m\u001b[1;34m'%2C'\u001b[0m\u001b[1;33m)\u001b[0m\u001b[1;33m[\u001b[0m\u001b[1;36m1\u001b[0m\u001b[1;33m]\u001b[0m \u001b[1;32mfor\u001b[0m \u001b[0murl\u001b[0m \u001b[1;32min\u001b[0m \u001b[0mmel\u001b[0m\u001b[1;33m[\u001b[0m\u001b[1;34m'Url_With_Coordinates'\u001b[0m\u001b[1;33m]\u001b[0m \u001b[1;33m]\u001b[0m\u001b[1;33m\u001b[0m\u001b[1;33m\u001b[0m\u001b[0m\n",
      "\u001b[1;31mIndexError\u001b[0m: list index out of range"
     ]
    }
   ],
   "source": [
    "mel['lat'] = [ url.split('?center=')[1].split('&zoom=')[0].split('%2C')[0] for url in mel['Url_With_Coordinates'] ]\n",
    "mel['long'] = [url.split('?center=')[1].split('&zoom=')[0].split('%2C')[1] for url in mel['Url_With_Coordinates'] ]"
   ]
  },
  {
   "cell_type": "markdown",
   "metadata": {},
   "source": [
    "Most likely, the above code gave you an error `list index out of range`. What this error means is that the `split()` method didn't work as intended with some URLs in the column `Url_With_Coordinates`. Perhaps some URLs  didn't have the keywords we used for the `split()` method. Let's look for the URLs that lack `&zoom=` for example : "
   ]
  },
  {
   "cell_type": "code",
   "execution_count": 23,
   "metadata": {},
   "outputs": [
    {
     "data": {
      "text/html": [
       "<div>\n",
       "<style scoped>\n",
       "    .dataframe tbody tr th:only-of-type {\n",
       "        vertical-align: middle;\n",
       "    }\n",
       "\n",
       "    .dataframe tbody tr th {\n",
       "        vertical-align: top;\n",
       "    }\n",
       "\n",
       "    .dataframe thead th {\n",
       "        text-align: right;\n",
       "    }\n",
       "</style>\n",
       "<table border=\"1\" class=\"dataframe\">\n",
       "  <thead>\n",
       "    <tr style=\"text-align: right;\">\n",
       "      <th></th>\n",
       "      <th>ABN</th>\n",
       "      <th>Charity_Legal_Name</th>\n",
       "      <th>Address_Line_1</th>\n",
       "      <th>Address_Line_2</th>\n",
       "      <th>Address_Line_3</th>\n",
       "      <th>Town_City</th>\n",
       "      <th>State</th>\n",
       "      <th>Postcode</th>\n",
       "      <th>Country</th>\n",
       "      <th>Date_Organisation_Established</th>\n",
       "      <th>Charity_Size</th>\n",
       "      <th>Full_Address</th>\n",
       "      <th>Url</th>\n",
       "      <th>Url_With_Coordinates</th>\n",
       "    </tr>\n",
       "  </thead>\n",
       "  <tbody>\n",
       "    <tr>\n",
       "      <th>33030</th>\n",
       "      <td>50662852831</td>\n",
       "      <td>The Trustee For Poaal Benevolent Fund</td>\n",
       "      <td>L 6 21 Victoria St</td>\n",
       "      <td></td>\n",
       "      <td></td>\n",
       "      <td>MELBOURNE</td>\n",
       "      <td>VIC</td>\n",
       "      <td>3000</td>\n",
       "      <td></td>\n",
       "      <td>01/01/2009</td>\n",
       "      <td></td>\n",
       "      <td>L 6 21 Victoria St   MELBOURNE</td>\n",
       "      <td>https://www.google.com/maps/search/L 6 21 Vict...</td>\n",
       "      <td>//www.gstatic.com/images/branding/product/1x/m...</td>\n",
       "    </tr>\n",
       "    <tr>\n",
       "      <th>38685</th>\n",
       "      <td>57533056318</td>\n",
       "      <td>Alternative Technology Association Inc.</td>\n",
       "      <td>L 1 Se 1 39 Little Collins St</td>\n",
       "      <td></td>\n",
       "      <td></td>\n",
       "      <td>Melbourne</td>\n",
       "      <td>Victoria</td>\n",
       "      <td>3000</td>\n",
       "      <td>Australia</td>\n",
       "      <td></td>\n",
       "      <td>Large</td>\n",
       "      <td>L 1 Se 1 39 Little Collins St   Melbourne</td>\n",
       "      <td>https://www.google.com/maps/search/L 1 Se 1 39...</td>\n",
       "      <td>//www.gstatic.com/images/branding/product/1x/m...</td>\n",
       "    </tr>\n",
       "    <tr>\n",
       "      <th>44144</th>\n",
       "      <td>64162498651</td>\n",
       "      <td>AUSTRALIAN INSTITUTE OF ARCHITECTS FOUNDATION</td>\n",
       "      <td>L 1 Se 1 41 Exhibition St</td>\n",
       "      <td></td>\n",
       "      <td></td>\n",
       "      <td>Melbourne</td>\n",
       "      <td>Victoria</td>\n",
       "      <td>3000</td>\n",
       "      <td>Australia</td>\n",
       "      <td>21/02/2013</td>\n",
       "      <td>Small</td>\n",
       "      <td>L 1 Se 1 41 Exhibition St   Melbourne</td>\n",
       "      <td>https://www.google.com/maps/search/L 1 Se 1 41...</td>\n",
       "      <td>//www.gstatic.com/images/branding/product/1x/m...</td>\n",
       "    </tr>\n",
       "    <tr>\n",
       "      <th>54013</th>\n",
       "      <td>76140094882</td>\n",
       "      <td>Embark Australia Ltd</td>\n",
       "      <td>L 1 Se 1 39 Little Collins St</td>\n",
       "      <td></td>\n",
       "      <td></td>\n",
       "      <td>Melbourne</td>\n",
       "      <td>Victoria</td>\n",
       "      <td>3000</td>\n",
       "      <td>Australia</td>\n",
       "      <td>01/01/2009</td>\n",
       "      <td>Small</td>\n",
       "      <td>L 1 Se 1 39 Little Collins St   Melbourne</td>\n",
       "      <td>https://www.google.com/maps/search/L 1 Se 1 39...</td>\n",
       "      <td>//www.gstatic.com/images/branding/product/1x/m...</td>\n",
       "    </tr>\n",
       "    <tr>\n",
       "      <th>56810</th>\n",
       "      <td>79578875531</td>\n",
       "      <td>Philanthropy Australia Ltd</td>\n",
       "      <td>L 2 55 Collins St</td>\n",
       "      <td></td>\n",
       "      <td></td>\n",
       "      <td>Melbourne</td>\n",
       "      <td>Victoria</td>\n",
       "      <td>3000</td>\n",
       "      <td>Australia</td>\n",
       "      <td>01/01/1975</td>\n",
       "      <td>Large</td>\n",
       "      <td>L 2 55 Collins St   Melbourne</td>\n",
       "      <td>https://www.google.com/maps/search/L 2 55 Coll...</td>\n",
       "      <td>//www.gstatic.com/images/branding/product/1x/m...</td>\n",
       "    </tr>\n",
       "  </tbody>\n",
       "</table>\n",
       "</div>"
      ],
      "text/plain": [
       "               ABN                             Charity_Legal_Name  \\\n",
       "33030  50662852831          The Trustee For Poaal Benevolent Fund   \n",
       "38685  57533056318        Alternative Technology Association Inc.   \n",
       "44144  64162498651  AUSTRALIAN INSTITUTE OF ARCHITECTS FOUNDATION   \n",
       "54013  76140094882                           Embark Australia Ltd   \n",
       "56810  79578875531                     Philanthropy Australia Ltd   \n",
       "\n",
       "                      Address_Line_1 Address_Line_2 Address_Line_3  Town_City  \\\n",
       "33030             L 6 21 Victoria St                                MELBOURNE   \n",
       "38685  L 1 Se 1 39 Little Collins St                                Melbourne   \n",
       "44144      L 1 Se 1 41 Exhibition St                                Melbourne   \n",
       "54013  L 1 Se 1 39 Little Collins St                                Melbourne   \n",
       "56810              L 2 55 Collins St                                Melbourne   \n",
       "\n",
       "          State Postcode    Country Date_Organisation_Established  \\\n",
       "33030       VIC     3000                               01/01/2009   \n",
       "38685  Victoria     3000  Australia                                 \n",
       "44144  Victoria     3000  Australia                    21/02/2013   \n",
       "54013  Victoria     3000  Australia                    01/01/2009   \n",
       "56810  Victoria     3000  Australia                    01/01/1975   \n",
       "\n",
       "      Charity_Size                               Full_Address  \\\n",
       "33030                          L 6 21 Victoria St   MELBOURNE   \n",
       "38685        Large  L 1 Se 1 39 Little Collins St   Melbourne   \n",
       "44144        Small      L 1 Se 1 41 Exhibition St   Melbourne   \n",
       "54013        Small  L 1 Se 1 39 Little Collins St   Melbourne   \n",
       "56810        Large              L 2 55 Collins St   Melbourne   \n",
       "\n",
       "                                                     Url  \\\n",
       "33030  https://www.google.com/maps/search/L 6 21 Vict...   \n",
       "38685  https://www.google.com/maps/search/L 1 Se 1 39...   \n",
       "44144  https://www.google.com/maps/search/L 1 Se 1 41...   \n",
       "54013  https://www.google.com/maps/search/L 1 Se 1 39...   \n",
       "56810  https://www.google.com/maps/search/L 2 55 Coll...   \n",
       "\n",
       "                                    Url_With_Coordinates  \n",
       "33030  //www.gstatic.com/images/branding/product/1x/m...  \n",
       "38685  //www.gstatic.com/images/branding/product/1x/m...  \n",
       "44144  //www.gstatic.com/images/branding/product/1x/m...  \n",
       "54013  //www.gstatic.com/images/branding/product/1x/m...  \n",
       "56810  //www.gstatic.com/images/branding/product/1x/m...  "
      ]
     },
     "execution_count": 23,
     "metadata": {},
     "output_type": "execute_result"
    }
   ],
   "source": [
    "mel[~mel.Url_With_Coordinates.str.contains('&zoom=')]"
   ]
  },
  {
   "cell_type": "markdown",
   "metadata": {},
   "source": [
    "As we can see here, we have 5 instances where the extracted URL starts with `//www.gstatic.com/images ...` (hence the error we got) :"
   ]
  },
  {
   "cell_type": "code",
   "execution_count": 24,
   "metadata": {},
   "outputs": [
    {
     "data": {
      "text/plain": [
       "['//www.gstatic.com/images/branding/product/1x/maps_round_512dp.png',\n",
       " '//www.gstatic.com/images/branding/product/1x/maps_round_512dp.png',\n",
       " '//www.gstatic.com/images/branding/product/1x/maps_round_512dp.png',\n",
       " '//www.gstatic.com/images/branding/product/1x/maps_round_512dp.png',\n",
       " '//www.gstatic.com/images/branding/product/1x/maps_round_512dp.png']"
      ]
     },
     "execution_count": 24,
     "metadata": {},
     "output_type": "execute_result"
    }
   ],
   "source": [
    "list(mel[~mel.Url_With_Coordinates.str.contains('&zoom=')].Url_With_Coordinates)"
   ]
  },
  {
   "cell_type": "markdown",
   "metadata": {},
   "source": [
    "For simplicity, we'll remove these 5 from `mel` :"
   ]
  },
  {
   "cell_type": "code",
   "execution_count": 25,
   "metadata": {},
   "outputs": [],
   "source": [
    "mel = mel[mel.Url_With_Coordinates.str.contains('&zoom=')].copy()"
   ]
  },
  {
   "cell_type": "markdown",
   "metadata": {},
   "source": [
    "And now, let's rerun the code that adds two columns `lat` and `long` to our `mel` dataframe :"
   ]
  },
  {
   "cell_type": "code",
   "execution_count": 26,
   "metadata": {},
   "outputs": [],
   "source": [
    "mel['lat'] = [ url.split('?center=')[1].split('&zoom=')[0].split('%2C')[0] for url in mel['Url_With_Coordinates'] ]\n",
    "mel['long'] = [url.split('?center=')[1].split('&zoom=')[0].split('%2C')[1] for url in mel['Url_With_Coordinates'] ]"
   ]
  },
  {
   "cell_type": "markdown",
   "metadata": {},
   "source": [
    "It worked! Here's how our `mel` dataframe looks like, where each charity or nonprofit gets it latitude and longitude values :"
   ]
  },
  {
   "cell_type": "code",
   "execution_count": 27,
   "metadata": {},
   "outputs": [
    {
     "data": {
      "text/html": [
       "<div>\n",
       "<style scoped>\n",
       "    .dataframe tbody tr th:only-of-type {\n",
       "        vertical-align: middle;\n",
       "    }\n",
       "\n",
       "    .dataframe tbody tr th {\n",
       "        vertical-align: top;\n",
       "    }\n",
       "\n",
       "    .dataframe thead th {\n",
       "        text-align: right;\n",
       "    }\n",
       "</style>\n",
       "<table border=\"1\" class=\"dataframe\">\n",
       "  <thead>\n",
       "    <tr style=\"text-align: right;\">\n",
       "      <th></th>\n",
       "      <th>ABN</th>\n",
       "      <th>Charity_Legal_Name</th>\n",
       "      <th>Address_Line_1</th>\n",
       "      <th>Address_Line_2</th>\n",
       "      <th>Address_Line_3</th>\n",
       "      <th>Town_City</th>\n",
       "      <th>State</th>\n",
       "      <th>Postcode</th>\n",
       "      <th>Country</th>\n",
       "      <th>Date_Organisation_Established</th>\n",
       "      <th>Charity_Size</th>\n",
       "      <th>Full_Address</th>\n",
       "      <th>Url</th>\n",
       "      <th>Url_With_Coordinates</th>\n",
       "      <th>lat</th>\n",
       "      <th>long</th>\n",
       "    </tr>\n",
       "  </thead>\n",
       "  <tbody>\n",
       "    <tr>\n",
       "      <th>15</th>\n",
       "      <td>11004285956</td>\n",
       "      <td>Australian Nurses Memorial Centre</td>\n",
       "      <td>G Se 11 431 St Kilda Rd</td>\n",
       "      <td></td>\n",
       "      <td></td>\n",
       "      <td>Melbourne</td>\n",
       "      <td>Victoria</td>\n",
       "      <td>3004</td>\n",
       "      <td>Australia</td>\n",
       "      <td>31/12/1949</td>\n",
       "      <td>Small</td>\n",
       "      <td>G Se 11 431 St Kilda Rd   Melbourne</td>\n",
       "      <td>https://www.google.com/maps/search/G Se 11 431...</td>\n",
       "      <td>https://maps.google.com/maps/api/staticmap?cen...</td>\n",
       "      <td>-37.8386737</td>\n",
       "      <td>144.97706</td>\n",
       "    </tr>\n",
       "    <tr>\n",
       "      <th>123</th>\n",
       "      <td>11128866419</td>\n",
       "      <td>Australian Community Philanthropy Ltd</td>\n",
       "      <td>L 15 1 Collins St</td>\n",
       "      <td></td>\n",
       "      <td></td>\n",
       "      <td>Melbourne</td>\n",
       "      <td>Victoria</td>\n",
       "      <td>3000</td>\n",
       "      <td>Australia</td>\n",
       "      <td>01/01/2007</td>\n",
       "      <td>Small</td>\n",
       "      <td>L 15 1 Collins St   Melbourne</td>\n",
       "      <td>https://www.google.com/maps/search/L 15 1 Coll...</td>\n",
       "      <td>https://maps.google.com/maps/api/staticmap?cen...</td>\n",
       "      <td>-37.8139436</td>\n",
       "      <td>144.9734554</td>\n",
       "    </tr>\n",
       "    <tr>\n",
       "      <th>125</th>\n",
       "      <td>11129013305</td>\n",
       "      <td>Nafsika Stamoulis Hellenic Museum Limited</td>\n",
       "      <td>280 William St</td>\n",
       "      <td></td>\n",
       "      <td></td>\n",
       "      <td>Melbourne</td>\n",
       "      <td>Victoria</td>\n",
       "      <td>3000</td>\n",
       "      <td>Australia</td>\n",
       "      <td>01/01/2007</td>\n",
       "      <td>Large</td>\n",
       "      <td>280 William St   Melbourne</td>\n",
       "      <td>https://www.google.com/maps/search/280 William...</td>\n",
       "      <td>https://maps.google.com/maps/api/staticmap?cen...</td>\n",
       "      <td>-37.8125657</td>\n",
       "      <td>144.9570751</td>\n",
       "    </tr>\n",
       "    <tr>\n",
       "      <th>126</th>\n",
       "      <td>11129790467</td>\n",
       "      <td>Doxa Community Club Incorporated</td>\n",
       "      <td>Ground Floor, Suite 2, 355 Spencer Street</td>\n",
       "      <td></td>\n",
       "      <td></td>\n",
       "      <td>West Melbourne</td>\n",
       "      <td>VIC</td>\n",
       "      <td>3003</td>\n",
       "      <td>Australia</td>\n",
       "      <td>01/01/1992</td>\n",
       "      <td>Large</td>\n",
       "      <td>Ground Floor, Suite 2, 355 Spencer Street   We...</td>\n",
       "      <td>https://www.google.com/maps/search/Ground Floo...</td>\n",
       "      <td>https://maps.google.com/maps/api/staticmap?cen...</td>\n",
       "      <td>-37.8119391</td>\n",
       "      <td>144.950558</td>\n",
       "    </tr>\n",
       "    <tr>\n",
       "      <th>135</th>\n",
       "      <td>11137037677</td>\n",
       "      <td>Financial Basics Community Foundation Limited</td>\n",
       "      <td>L 7 525 Flinders St</td>\n",
       "      <td></td>\n",
       "      <td></td>\n",
       "      <td>Melbourne</td>\n",
       "      <td>Victoria</td>\n",
       "      <td>3000</td>\n",
       "      <td>Australia</td>\n",
       "      <td>01/01/2009</td>\n",
       "      <td>Small</td>\n",
       "      <td>L 7 525 Flinders St   Melbourne</td>\n",
       "      <td>https://www.google.com/maps/search/L 7 525 Fli...</td>\n",
       "      <td>https://maps.google.com/maps/api/staticmap?cen...</td>\n",
       "      <td>-37.820694</td>\n",
       "      <td>144.957151</td>\n",
       "    </tr>\n",
       "  </tbody>\n",
       "</table>\n",
       "</div>"
      ],
      "text/plain": [
       "             ABN                             Charity_Legal_Name  \\\n",
       "15   11004285956              Australian Nurses Memorial Centre   \n",
       "123  11128866419          Australian Community Philanthropy Ltd   \n",
       "125  11129013305      Nafsika Stamoulis Hellenic Museum Limited   \n",
       "126  11129790467               Doxa Community Club Incorporated   \n",
       "135  11137037677  Financial Basics Community Foundation Limited   \n",
       "\n",
       "                                Address_Line_1 Address_Line_2 Address_Line_3  \\\n",
       "15                     G Se 11 431 St Kilda Rd                                 \n",
       "123                          L 15 1 Collins St                                 \n",
       "125                             280 William St                                 \n",
       "126  Ground Floor, Suite 2, 355 Spencer Street                                 \n",
       "135                        L 7 525 Flinders St                                 \n",
       "\n",
       "          Town_City     State Postcode    Country  \\\n",
       "15        Melbourne  Victoria     3004  Australia   \n",
       "123       Melbourne  Victoria     3000  Australia   \n",
       "125       Melbourne  Victoria     3000  Australia   \n",
       "126  West Melbourne       VIC     3003  Australia   \n",
       "135       Melbourne  Victoria     3000  Australia   \n",
       "\n",
       "    Date_Organisation_Established Charity_Size  \\\n",
       "15                     31/12/1949        Small   \n",
       "123                    01/01/2007        Small   \n",
       "125                    01/01/2007        Large   \n",
       "126                    01/01/1992        Large   \n",
       "135                    01/01/2009        Small   \n",
       "\n",
       "                                          Full_Address  \\\n",
       "15                 G Se 11 431 St Kilda Rd   Melbourne   \n",
       "123                      L 15 1 Collins St   Melbourne   \n",
       "125                         280 William St   Melbourne   \n",
       "126  Ground Floor, Suite 2, 355 Spencer Street   We...   \n",
       "135                    L 7 525 Flinders St   Melbourne   \n",
       "\n",
       "                                                   Url  \\\n",
       "15   https://www.google.com/maps/search/G Se 11 431...   \n",
       "123  https://www.google.com/maps/search/L 15 1 Coll...   \n",
       "125  https://www.google.com/maps/search/280 William...   \n",
       "126  https://www.google.com/maps/search/Ground Floo...   \n",
       "135  https://www.google.com/maps/search/L 7 525 Fli...   \n",
       "\n",
       "                                  Url_With_Coordinates          lat  \\\n",
       "15   https://maps.google.com/maps/api/staticmap?cen...  -37.8386737   \n",
       "123  https://maps.google.com/maps/api/staticmap?cen...  -37.8139436   \n",
       "125  https://maps.google.com/maps/api/staticmap?cen...  -37.8125657   \n",
       "126  https://maps.google.com/maps/api/staticmap?cen...  -37.8119391   \n",
       "135  https://maps.google.com/maps/api/staticmap?cen...   -37.820694   \n",
       "\n",
       "            long  \n",
       "15     144.97706  \n",
       "123  144.9734554  \n",
       "125  144.9570751  \n",
       "126   144.950558  \n",
       "135   144.957151  "
      ]
     },
     "execution_count": 27,
     "metadata": {},
     "output_type": "execute_result"
    }
   ],
   "source": [
    "mel.head()"
   ]
  },
  {
   "cell_type": "markdown",
   "metadata": {},
   "source": [
    "Let's map these coordinates to see how accurate they can be."
   ]
  },
  {
   "cell_type": "markdown",
   "metadata": {},
   "source": [
    "---"
   ]
  },
  {
   "cell_type": "markdown",
   "metadata": {},
   "source": [
    "# Using Folium for coordinates mapping :"
   ]
  },
  {
   "cell_type": "markdown",
   "metadata": {},
   "source": [
    "Here's the code we'll use to map these coordinates into a Melbourne map with the following color coding (charity size depends on annual income) :\n",
    "* **Red**: Large charities (1 Million AUD or more) ;\n",
    "* **Purple**: Medium charities (between 250.000 AUD and 1 Million AUD) ;\n",
    "* **Orange**: Small charities (less than 250.000 AUD);\n",
    "* **Grey**: no data."
   ]
  },
  {
   "cell_type": "code",
   "execution_count": 28,
   "metadata": {},
   "outputs": [
    {
     "data": {
      "text/html": [
       "\n",
       "        <iframe\n",
       "            width=\"100%\"\n",
       "            height=\"500\"\n",
       "            src=\"mel_map.html\"\n",
       "            frameborder=\"0\"\n",
       "            allowfullscreen\n",
       "        ></iframe>\n",
       "        "
      ],
      "text/plain": [
       "<IPython.lib.display.IFrame at 0x29e273932b0>"
      ]
     },
     "execution_count": 28,
     "metadata": {},
     "output_type": "execute_result"
    }
   ],
   "source": [
    "from IPython.display import IFrame\n",
    "\n",
    "mel_large  = mel[mel.Charity_Size == 'Large']\n",
    "mel_medium = mel[mel.Charity_Size == 'Medium']\n",
    "mel_small  = mel[mel.Charity_Size == 'Small']\n",
    "mel_other  = mel[mel.Charity_Size == '']\n",
    "\n",
    "mel_map = folium.Map( [-37.8, 145], tiles='CartoDB positron' )\n",
    "   \n",
    "for lat, long, name, full_address in zip(mel_large.lat, mel_large.long, mel_large.Charity_Legal_Name, mel_large.Full_Address):\n",
    "    folium.Marker( [lat, long], \n",
    "                   icon=folium.CustomIcon( icon_image='https://i.imgur.com/CYx04oC.png', icon_size=(10,10) ), popup=name+'\\n\\n'+full_address ).add_to(mel_map)\n",
    "\n",
    "for lat, long, name, full_address in zip(mel_medium.lat, mel_medium.long, mel_medium.Charity_Legal_Name, mel_medium.Full_Address):\n",
    "    folium.Marker( [lat, long], \n",
    "                   icon=folium.CustomIcon( icon_image='https://imgur.com/Rzs4Zpa.png', icon_size=(8,8) ), popup=name+'\\n\\n'+full_address ).add_to(mel_map)\n",
    "    \n",
    "for lat, long, name, full_address in zip(mel_small.lat, mel_small.long, mel_small.Charity_Legal_Name, mel_small.Full_Address):\n",
    "    folium.Marker( [lat, long], \n",
    "                   icon=folium.CustomIcon( icon_image='https://imgur.com/6TWrNOY.png', icon_size=(6,6) ), popup=name+'\\n\\n'+full_address ).add_to(mel_map)\n",
    "    \n",
    "for lat, long, name, full_address in zip(mel_other.lat, mel_other.long, mel_other.Charity_Legal_Name, mel_other.Full_Address):\n",
    "    folium.Marker( [lat, long], \n",
    "                   icon=folium.CustomIcon( icon_image='https://imgur.com/C1MXk3r.png', icon_size=(4,4) ), popup=name+'\\n\\n'+full_address ).add_to(mel_map)\n",
    "\n",
    "\n",
    "mel_map.save('mel_map.html')\n",
    "IFrame(src='mel_map.html', width='100%', height=500)"
   ]
  },
  {
   "cell_type": "markdown",
   "metadata": {},
   "source": [
    "I'm not going into great detail on how to use Folium, but I'll just clarify some points here :\n",
    "\n",
    "* I used `CartoDB positron` for this map because it provides very low contrast against the colored markers (it makes them more visible). Using the default tiles `OpenStreetMap` makes it difficult to see the markers ;\n",
    "\n",
    "* I changed the size of the marker based on the size of the charity using the parameter `icon_size=(..,..)` of `folium.CustomIcon`. The reason behind this is to prevent charities that reside in the same building from masking each other. Because Large markers are drawn first, smaller markers are drawn on on top of them so that overlapping charities can still be distinguished ;\n",
    "\n",
    "* I used custom markers (hosted on imgur) because the default one tends to slow navigation down a lot since we have around 2000 markers on the map. For custom markers, you can provide a URL to the image you want to use, or the path to the image file on your machine ;\n",
    "\n",
    "* If you click on a marker, it gives you the name of the charity and its address, so you can verify if the positioning is correct ;\n",
    "\n",
    "* In the code above, I could have used just `mel_map` instead of `mel_map.save('mel_map.html')` followed by `IFrame(src='mel_map.html', width='100%', height=500)`, but when the number of markers is big, it's better to save the map as an HTML file and then open it using `IFrame()` (otherwise you'll get a blank map)."
   ]
  },
  {
   "cell_type": "markdown",
   "metadata": {},
   "source": [
    "---"
   ]
  },
  {
   "cell_type": "markdown",
   "metadata": {},
   "source": [
    "# How accurate and reliable is this method? (bonus test)"
   ]
  },
  {
   "cell_type": "markdown",
   "metadata": {},
   "source": [
    "This is a very legitimate question. Obviously, the best way to get coordinates out of street addresses is from a reputable API like Google Maps's or Baidu's, but these options can cost money. \n",
    "\n",
    "The accuracy of this method is heavily influenced by the accuracy and correctness of the street addresses provided. For instance, in our example above, you'll notice one marker thrown away in the middle of the Indian Ocean. Upon examination, the address `65 Macarae Road Melbourne` is actually supposed to be `65 Mcrae Road Melbourne`, hence the error.\n",
    "\n",
    "To empirically test our method, we are going to use a dataset containing both the street addresses and the coordinates of thousands of businesses in Washington DC. We'll proceed to take a random sample of 500 business addresses and then we'll use our method to generate coordinates out of them. After that, we'll compare them to the actual coordinates listed in the dataset. The dataset we'll use for our test can be downloaded here : \n",
    "\n",
    "* [Basic Business License in Last 30 Days](https://opendata.dc.gov/datasets/a9ac9f8d9d1546e8bd6610b48cb29810/data): opendata.dc.gov dataset, **6418** records (as of 26/01/2020), 2.64 Mb"
   ]
  },
  {
   "cell_type": "code",
   "execution_count": 65,
   "metadata": {},
   "outputs": [],
   "source": [
    "dc = pd.read_csv('data/Basic_Business_License_in_Last_30_Days.csv')       # provide your own path to your file"
   ]
  },
  {
   "cell_type": "markdown",
   "metadata": {},
   "source": [
    "We take a sample of 500 records out of the dataset where `SITE_ADDRESS`, `LATITUDE` and `LONGITUDE` are all not NULL (I used the parameter `random_seet` here so you'll get the same sample as I did. Remove it to get a new random sample each time you run this cell) :"
   ]
  },
  {
   "cell_type": "code",
   "execution_count": 66,
   "metadata": {},
   "outputs": [
    {
     "data": {
      "text/html": [
       "<div>\n",
       "<style scoped>\n",
       "    .dataframe tbody tr th:only-of-type {\n",
       "        vertical-align: middle;\n",
       "    }\n",
       "\n",
       "    .dataframe tbody tr th {\n",
       "        vertical-align: top;\n",
       "    }\n",
       "\n",
       "    .dataframe thead th {\n",
       "        text-align: right;\n",
       "    }\n",
       "</style>\n",
       "<table border=\"1\" class=\"dataframe\">\n",
       "  <thead>\n",
       "    <tr style=\"text-align: right;\">\n",
       "      <th></th>\n",
       "      <th>BILLING_ADDRESS</th>\n",
       "      <th>BILLING_ADDRESS_CITY_STATE_ZIP</th>\n",
       "      <th>AGENT_ENTITY</th>\n",
       "      <th>AGENT_FIRST_NAME</th>\n",
       "      <th>AGENT_LAST_NAME</th>\n",
       "      <th>AGENT_MIDDLE_NAME</th>\n",
       "      <th>AGENT_PHONE</th>\n",
       "      <th>SITE_ADDRESS</th>\n",
       "      <th>BBL_CITY_STATE_ZIP</th>\n",
       "      <th>BILLING_NAME</th>\n",
       "      <th>CUSTOMER_NUMBER</th>\n",
       "      <th>DC_ADDR_FLAG</th>\n",
       "      <th>LICENSECATEGORY</th>\n",
       "      <th>ENTITY_NAME</th>\n",
       "      <th>FIRST_NAME</th>\n",
       "      <th>LAST_NAME</th>\n",
       "      <th>DCS_ADD_DATE</th>\n",
       "      <th>LICENSE_END_DATE</th>\n",
       "      <th>LICENSE_ISSUE_DATE</th>\n",
       "      <th>LICENSE_START_DATE</th>\n",
       "      <th>LICENSE_CATEGORY_TEXT</th>\n",
       "      <th>LICENSE_CATEGORY_CODE</th>\n",
       "      <th>LICENSESTATUS</th>\n",
       "      <th>PHONE_NUMBER</th>\n",
       "      <th>OBJECTID</th>\n",
       "      <th>CITY</th>\n",
       "      <th>STATE</th>\n",
       "      <th>ZIP</th>\n",
       "      <th>BBL_LICENSE_FACT_ID</th>\n",
       "      <th>DCS_LAST_MOD_DTTM</th>\n",
       "      <th>LATITUDE</th>\n",
       "      <th>LONGITUDE</th>\n",
       "      <th>XCOORD</th>\n",
       "      <th>YCOORD</th>\n",
       "      <th>ZIPCODE</th>\n",
       "      <th>MARADDRESSREPOSITORYID</th>\n",
       "      <th>WARD</th>\n",
       "      <th>ANC</th>\n",
       "      <th>SMD</th>\n",
       "      <th>DISTRICT</th>\n",
       "      <th>PSA</th>\n",
       "      <th>NEIGHBORHOODCLUSTER</th>\n",
       "      <th>BUSINESSIMPROVEMENTDISTRICT</th>\n",
       "      <th>MAINSTREET</th>\n",
       "    </tr>\n",
       "  </thead>\n",
       "  <tbody>\n",
       "    <tr>\n",
       "      <th>5814</th>\n",
       "      <td>SUITE/APT #400</td>\n",
       "      <td>451 Hungerford Drive ROCKVILLE MD 20850</td>\n",
       "      <td>CORPORATION SERVICE COMPANY</td>\n",
       "      <td>NaN</td>\n",
       "      <td>NaN</td>\n",
       "      <td>NaN</td>\n",
       "      <td>2024083121</td>\n",
       "      <td>1100 CONNECTICUT AVE NW</td>\n",
       "      <td>WASHINGTON DC 20036</td>\n",
       "      <td>NaN</td>\n",
       "      <td>400314000777</td>\n",
       "      <td>Y</td>\n",
       "      <td>General Business Licenses</td>\n",
       "      <td>PLANET DEPOS LLC</td>\n",
       "      <td>NaN</td>\n",
       "      <td>NaN</td>\n",
       "      <td>NaN</td>\n",
       "      <td>2022-01-31T00:00:00.000Z</td>\n",
       "      <td>2020-01-14T00:00:00.000Z</td>\n",
       "      <td>2020-02-01T00:00:00.000Z</td>\n",
       "      <td>General Business</td>\n",
       "      <td>4003.0</td>\n",
       "      <td>Ready to Batch Print</td>\n",
       "      <td>NaN</td>\n",
       "      <td>184894</td>\n",
       "      <td>WASHINGTON</td>\n",
       "      <td>DC</td>\n",
       "      <td>20036</td>\n",
       "      <td>88432196</td>\n",
       "      <td>2020-01-25T05:22:13.000Z</td>\n",
       "      <td>38.904073</td>\n",
       "      <td>-77.040638</td>\n",
       "      <td>396475.11</td>\n",
       "      <td>137358.15</td>\n",
       "      <td>NaN</td>\n",
       "      <td>243303.0</td>\n",
       "      <td>2.0</td>\n",
       "      <td>2B</td>\n",
       "      <td>2B06</td>\n",
       "      <td>SECOND</td>\n",
       "      <td>207.0</td>\n",
       "      <td>Cluster 6</td>\n",
       "      <td>Golden Triangle BID</td>\n",
       "      <td>NaN</td>\n",
       "    </tr>\n",
       "    <tr>\n",
       "      <th>5569</th>\n",
       "      <td>NaN</td>\n",
       "      <td>310 W. 20th Street,  Kansas City MO 64108</td>\n",
       "      <td>CATHERINE  READ</td>\n",
       "      <td>NaN</td>\n",
       "      <td>NaN</td>\n",
       "      <td>NaN</td>\n",
       "      <td>NaN</td>\n",
       "      <td>1015 15TH ST NW</td>\n",
       "      <td>WASHINGTON DC 20005</td>\n",
       "      <td>NaN</td>\n",
       "      <td>400218000536</td>\n",
       "      <td>Y</td>\n",
       "      <td>Charitable Solicitation</td>\n",
       "      <td>Center for Victims of Torture</td>\n",
       "      <td>NaN</td>\n",
       "      <td>NaN</td>\n",
       "      <td>NaN</td>\n",
       "      <td>2020-03-31T00:00:00.000Z</td>\n",
       "      <td>2020-01-04T00:00:00.000Z</td>\n",
       "      <td>2018-04-01T00:00:00.000Z</td>\n",
       "      <td>General Business</td>\n",
       "      <td>4002.0</td>\n",
       "      <td>Ready to Renew</td>\n",
       "      <td>NaN</td>\n",
       "      <td>184039</td>\n",
       "      <td>WASHINGTON</td>\n",
       "      <td>DC</td>\n",
       "      <td>20005</td>\n",
       "      <td>88433876</td>\n",
       "      <td>2020-01-25T05:22:13.000Z</td>\n",
       "      <td>38.902997</td>\n",
       "      <td>-77.034250</td>\n",
       "      <td>397029.16</td>\n",
       "      <td>137238.53</td>\n",
       "      <td>NaN</td>\n",
       "      <td>240258.0</td>\n",
       "      <td>2.0</td>\n",
       "      <td>2F</td>\n",
       "      <td>2F05</td>\n",
       "      <td>SECOND</td>\n",
       "      <td>207.0</td>\n",
       "      <td>Cluster 8</td>\n",
       "      <td>Downtown BID</td>\n",
       "      <td>NaN</td>\n",
       "    </tr>\n",
       "    <tr>\n",
       "      <th>379</th>\n",
       "      <td>NaN</td>\n",
       "      <td>12 Pondview Road Chester NJ 07930</td>\n",
       "      <td>Patrick J. Tangney - Logan Title</td>\n",
       "      <td>Patrick</td>\n",
       "      <td>Tangney</td>\n",
       "      <td>J</td>\n",
       "      <td>2024002508</td>\n",
       "      <td>920 I ST NW</td>\n",
       "      <td>Washington DC 20001</td>\n",
       "      <td>NaN</td>\n",
       "      <td>500518802633</td>\n",
       "      <td>Y</td>\n",
       "      <td>One Family Rental</td>\n",
       "      <td>Gregory Savettiere</td>\n",
       "      <td>NaN</td>\n",
       "      <td>NaN</td>\n",
       "      <td>NaN</td>\n",
       "      <td>2022-02-28T00:00:00.000Z</td>\n",
       "      <td>2020-01-03T00:00:00.000Z</td>\n",
       "      <td>2020-03-01T00:00:00.000Z</td>\n",
       "      <td>Housing: Residential</td>\n",
       "      <td>5005.0</td>\n",
       "      <td>Ready to Batch Print</td>\n",
       "      <td>NaN</td>\n",
       "      <td>23957</td>\n",
       "      <td>Washington</td>\n",
       "      <td>DC</td>\n",
       "      <td>20001</td>\n",
       "      <td>88468710</td>\n",
       "      <td>2020-01-25T05:22:15.000Z</td>\n",
       "      <td>38.900467</td>\n",
       "      <td>-77.024568</td>\n",
       "      <td>397868.89</td>\n",
       "      <td>136957.35</td>\n",
       "      <td>NaN</td>\n",
       "      <td>307522.0</td>\n",
       "      <td>2.0</td>\n",
       "      <td>2C</td>\n",
       "      <td>2C01</td>\n",
       "      <td>SECOND</td>\n",
       "      <td>209.0</td>\n",
       "      <td>Cluster 8</td>\n",
       "      <td>Downtown BID</td>\n",
       "      <td>NaN</td>\n",
       "    </tr>\n",
       "  </tbody>\n",
       "</table>\n",
       "</div>"
      ],
      "text/plain": [
       "     BILLING_ADDRESS              BILLING_ADDRESS_CITY_STATE_ZIP  \\\n",
       "5814  SUITE/APT #400    451 Hungerford Drive ROCKVILLE MD 20850    \n",
       "5569             NaN  310 W. 20th Street,  Kansas City MO 64108    \n",
       "379              NaN          12 Pondview Road Chester NJ 07930    \n",
       "\n",
       "                          AGENT_ENTITY AGENT_FIRST_NAME AGENT_LAST_NAME  \\\n",
       "5814       CORPORATION SERVICE COMPANY              NaN             NaN   \n",
       "5569                   CATHERINE  READ              NaN             NaN   \n",
       "379   Patrick J. Tangney - Logan Title          Patrick         Tangney   \n",
       "\n",
       "     AGENT_MIDDLE_NAME AGENT_PHONE              SITE_ADDRESS  \\\n",
       "5814               NaN  2024083121  1100 CONNECTICUT AVE NW    \n",
       "5569               NaN         NaN          1015 15TH ST NW    \n",
       "379                  J  2024002508              920 I ST NW    \n",
       "\n",
       "       BBL_CITY_STATE_ZIP BILLING_NAME  CUSTOMER_NUMBER DC_ADDR_FLAG  \\\n",
       "5814  WASHINGTON DC 20036          NaN     400314000777            Y   \n",
       "5569  WASHINGTON DC 20005          NaN     400218000536            Y   \n",
       "379   Washington DC 20001          NaN     500518802633            Y   \n",
       "\n",
       "                LICENSECATEGORY                    ENTITY_NAME FIRST_NAME  \\\n",
       "5814  General Business Licenses               PLANET DEPOS LLC        NaN   \n",
       "5569    Charitable Solicitation  Center for Victims of Torture        NaN   \n",
       "379           One Family Rental             Gregory Savettiere        NaN   \n",
       "\n",
       "     LAST_NAME  DCS_ADD_DATE          LICENSE_END_DATE  \\\n",
       "5814       NaN           NaN  2022-01-31T00:00:00.000Z   \n",
       "5569       NaN           NaN  2020-03-31T00:00:00.000Z   \n",
       "379        NaN           NaN  2022-02-28T00:00:00.000Z   \n",
       "\n",
       "            LICENSE_ISSUE_DATE        LICENSE_START_DATE  \\\n",
       "5814  2020-01-14T00:00:00.000Z  2020-02-01T00:00:00.000Z   \n",
       "5569  2020-01-04T00:00:00.000Z  2018-04-01T00:00:00.000Z   \n",
       "379   2020-01-03T00:00:00.000Z  2020-03-01T00:00:00.000Z   \n",
       "\n",
       "     LICENSE_CATEGORY_TEXT  LICENSE_CATEGORY_CODE         LICENSESTATUS  \\\n",
       "5814      General Business                 4003.0  Ready to Batch Print   \n",
       "5569      General Business                 4002.0        Ready to Renew   \n",
       "379   Housing: Residential                 5005.0  Ready to Batch Print   \n",
       "\n",
       "      PHONE_NUMBER  OBJECTID         CITY STATE     ZIP  BBL_LICENSE_FACT_ID  \\\n",
       "5814           NaN    184894  WASHINGTON     DC   20036             88432196   \n",
       "5569           NaN    184039  WASHINGTON     DC   20005             88433876   \n",
       "379            NaN     23957  Washington     DC   20001             88468710   \n",
       "\n",
       "             DCS_LAST_MOD_DTTM   LATITUDE  LONGITUDE     XCOORD     YCOORD  \\\n",
       "5814  2020-01-25T05:22:13.000Z  38.904073 -77.040638  396475.11  137358.15   \n",
       "5569  2020-01-25T05:22:13.000Z  38.902997 -77.034250  397029.16  137238.53   \n",
       "379   2020-01-25T05:22:15.000Z  38.900467 -77.024568  397868.89  136957.35   \n",
       "\n",
       "      ZIPCODE  MARADDRESSREPOSITORYID  WARD ANC   SMD DISTRICT    PSA  \\\n",
       "5814      NaN                243303.0   2.0  2B  2B06   SECOND  207.0   \n",
       "5569      NaN                240258.0   2.0  2F  2F05   SECOND  207.0   \n",
       "379       NaN                307522.0   2.0  2C  2C01   SECOND  209.0   \n",
       "\n",
       "     NEIGHBORHOODCLUSTER BUSINESSIMPROVEMENTDISTRICT MAINSTREET  \n",
       "5814           Cluster 6         Golden Triangle BID        NaN  \n",
       "5569           Cluster 8                Downtown BID        NaN  \n",
       "379            Cluster 8                Downtown BID        NaN  "
      ]
     },
     "execution_count": 66,
     "metadata": {},
     "output_type": "execute_result"
    }
   ],
   "source": [
    "dc = dc[(~dc.SITE_ADDRESS.isnull()) & (~dc.LATITUDE.isnull()) & (~dc.LONGITUDE.isnull()) ].copy().sample(500, random_state = 1)\n",
    "\n",
    "dc.head(3)"
   ]
  },
  {
   "cell_type": "markdown",
   "metadata": {},
   "source": [
    "We generate our Google Maps search URL :"
   ]
  },
  {
   "cell_type": "code",
   "execution_count": 67,
   "metadata": {},
   "outputs": [],
   "source": [
    "dc['URL'] = ['https://www.google.com/maps/search/' + i +' Washington DC' for i in dc['SITE_ADDRESS'] ]"
   ]
  },
  {
   "cell_type": "markdown",
   "metadata": {},
   "source": [
    "We run our Senelium web scraper :"
   ]
  },
  {
   "cell_type": "code",
   "execution_count": 68,
   "metadata": {},
   "outputs": [
    {
     "data": {
      "application/vnd.jupyter.widget-view+json": {
       "model_id": "",
       "version_major": 2,
       "version_minor": 0
      },
      "text/plain": [
       "HBox(children=(IntProgress(value=0, max=500), HTML(value='')))"
      ]
     },
     "metadata": {},
     "output_type": "display_data"
    },
    {
     "name": "stdout",
     "output_type": "stream",
     "text": [
      "\r"
     ]
    }
   ],
   "source": [
    "DC_Url_With_Coordinates = []\n",
    "\n",
    "option = webdriver.ChromeOptions()\n",
    "prefs = {'profile.default_content_setting_values': {'images':2, 'javascript':2}}\n",
    "option.add_experimental_option('prefs', prefs)\n",
    "\n",
    "driver = webdriver.Chrome(\"C:\\\\chromedriver.exe\", options=option)\n",
    "\n",
    "for url in tqdmn(dc.URL, leave=False):\n",
    "    driver.get(url)\n",
    "    DC_Url_With_Coordinates.append(driver.find_element_by_css_selector('meta[itemprop=image]').get_attribute('content'))\n",
    "\n",
    "driver.close()"
   ]
  },
  {
   "cell_type": "markdown",
   "metadata": {},
   "source": [
    "We add the URLs to the `dc` dataset :"
   ]
  },
  {
   "cell_type": "code",
   "execution_count": 69,
   "metadata": {},
   "outputs": [],
   "source": [
    "dc['DC_Url_With_Coordinates'] = DC_Url_With_Coordinates"
   ]
  },
  {
   "cell_type": "markdown",
   "metadata": {},
   "source": [
    "And then the latitudes and longitudes (GEN stands for Generated Latitudes and Longitudes) :"
   ]
  },
  {
   "cell_type": "code",
   "execution_count": 70,
   "metadata": {},
   "outputs": [],
   "source": [
    "dc['GEN_LATITUDE'] = [ url.split('?center=')[1].split('&zoom=')[0].split('%2C')[0] for url in dc['DC_Url_With_Coordinates'] ]\n",
    "dc['GEN_LONGITUDE'] = [url.split('?center=')[1].split('&zoom=')[0].split('%2C')[1] for url in dc['DC_Url_With_Coordinates'] ]"
   ]
  },
  {
   "cell_type": "markdown",
   "metadata": {},
   "source": [
    "Finally, let's map them both: actual coordinates using pink and generated coordinates using orange :"
   ]
  },
  {
   "cell_type": "code",
   "execution_count": 71,
   "metadata": {},
   "outputs": [
    {
     "data": {
      "text/html": [
       "\n",
       "        <iframe\n",
       "            width=\"100%\"\n",
       "            height=\"500\"\n",
       "            src=\"dc_map.html\"\n",
       "            frameborder=\"0\"\n",
       "            allowfullscreen\n",
       "        ></iframe>\n",
       "        "
      ],
      "text/plain": [
       "<IPython.lib.display.IFrame at 0x29e2726be10>"
      ]
     },
     "execution_count": 71,
     "metadata": {},
     "output_type": "execute_result"
    }
   ],
   "source": [
    "from IPython.display import IFrame\n",
    "\n",
    "dc_map = folium.Map( [38.89, -77.15], tiles='CartoDB positron' )\n",
    "   \n",
    "for lat, long, full_address in zip(dc.LATITUDE, dc.LONGITUDE, dc.SITE_ADDRESS):\n",
    "    folium.Marker( [lat, long], \n",
    "                   icon=folium.CustomIcon( icon_image='https://imgur.com/joZ4jCn.png', icon_size=(12,12) ), popup=full_address ).add_to(dc_map)\n",
    "\n",
    "for lat, long, full_address in zip(dc.GEN_LATITUDE, dc.GEN_LONGITUDE, dc.SITE_ADDRESS):\n",
    "    folium.Marker( [lat, long], \n",
    "                   icon=folium.CustomIcon( icon_image='https://imgur.com/6TWrNOY.png', icon_size=(9,9) ), popup=full_address ).add_to(dc_map)\n",
    "    \n",
    "dc_map.save('dc_map.html')\n",
    "IFrame(src='dc_map.html', width='100%', height=500)"
   ]
  },
  {
   "cell_type": "markdown",
   "metadata": {},
   "source": [
    "As we can see above, the generated coordinates are very close to the actual coordinates in this random sample of 500 businesses (out of 6418)."
   ]
  },
  {
   "cell_type": "code",
   "execution_count": null,
   "metadata": {},
   "outputs": [],
   "source": []
  },
  {
   "cell_type": "code",
   "execution_count": null,
   "metadata": {},
   "outputs": [],
   "source": []
  },
  {
   "cell_type": "code",
   "execution_count": null,
   "metadata": {},
   "outputs": [],
   "source": []
  },
  {
   "cell_type": "code",
   "execution_count": null,
   "metadata": {},
   "outputs": [],
   "source": []
  },
  {
   "cell_type": "code",
   "execution_count": null,
   "metadata": {},
   "outputs": [],
   "source": []
  },
  {
   "cell_type": "code",
   "execution_count": null,
   "metadata": {},
   "outputs": [],
   "source": []
  },
  {
   "cell_type": "code",
   "execution_count": null,
   "metadata": {},
   "outputs": [],
   "source": []
  },
  {
   "cell_type": "code",
   "execution_count": null,
   "metadata": {},
   "outputs": [],
   "source": []
  },
  {
   "cell_type": "code",
   "execution_count": null,
   "metadata": {},
   "outputs": [],
   "source": []
  }
 ],
 "metadata": {
  "kernelspec": {
   "display_name": "Python 3",
   "language": "python",
   "name": "python3"
  },
  "language_info": {
   "codemirror_mode": {
    "name": "ipython",
    "version": 3
   },
   "file_extension": ".py",
   "mimetype": "text/x-python",
   "name": "python",
   "nbconvert_exporter": "python",
   "pygments_lexer": "ipython3",
   "version": "3.6.7"
  }
 },
 "nbformat": 4,
 "nbformat_minor": 2
}
